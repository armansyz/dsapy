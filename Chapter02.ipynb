{
 "cells": [
  {
   "cell_type": "markdown",
   "metadata": {},
   "source": [
    "# Chapter 2"
   ]
  },
  {
   "cell_type": "markdown",
   "metadata": {},
   "source": [
    "## Modules used"
   ]
  },
  {
   "cell_type": "code",
   "execution_count": 1,
   "metadata": {},
   "outputs": [],
   "source": [
    "from math import sqrt, ceil\n",
    "from typing import List\n",
    "from collections.abc import Sequence\n",
    "import random\n",
    "import re\n",
    "import time"
   ]
  },
  {
   "cell_type": "markdown",
   "metadata": {},
   "source": [
    "## Reinforcement"
   ]
  },
  {
   "cell_type": "markdown",
   "metadata": {},
   "source": [
    "### R-2.1"
   ]
  },
  {
   "cell_type": "markdown",
   "metadata": {},
   "source": [
    "Give three examples of life-critical software applications."
   ]
  },
  {
   "cell_type": "markdown",
   "metadata": {},
   "source": [
    "    * Intensive Care Unit systems\n",
    "    * Traffic light management system\n",
    "    * Air traffic control system"
   ]
  },
  {
   "cell_type": "markdown",
   "metadata": {},
   "source": [
    "### R-2.2"
   ]
  },
  {
   "cell_type": "markdown",
   "metadata": {},
   "source": [
    "Give an example of a software application in which adaptability can mean\n",
    "the difference between a prolonged lifetime of sales and bankruptcy."
   ]
  },
  {
   "cell_type": "markdown",
   "metadata": {},
   "source": [
    "    Enterprise Resource Planning system"
   ]
  },
  {
   "cell_type": "markdown",
   "metadata": {},
   "source": [
    "### R-2.3"
   ]
  },
  {
   "cell_type": "markdown",
   "metadata": {},
   "source": [
    "Describe a component from a text-editor GUI and the methods that it encapsulates."
   ]
  },
  {
   "cell_type": "markdown",
   "metadata": {},
   "source": [
    "    WordWrap module:\n",
    "        * get_window_width\n",
    "        * break_line\n",
    "        * process_text"
   ]
  },
  {
   "cell_type": "markdown",
   "metadata": {},
   "source": [
    "### R-2.4"
   ]
  },
  {
   "cell_type": "markdown",
   "metadata": {},
   "source": [
    "Write a Python class, Flower, that has three instance variables of type str,\n",
    "int, and float, that respectively represent the name of the flower, its number of petals, and its price. Your class must include a constructor method\n",
    "that initializes each variable to an appropriate value, and your class should\n",
    "include methods for setting the value of each type, and retrieving the value\n",
    "of each type."
   ]
  },
  {
   "cell_type": "code",
   "execution_count": 1,
   "metadata": {},
   "outputs": [],
   "source": [
    "class Flower:\n",
    "    \"\"\"Class representing flowers\"\"\"\n",
    "    \n",
    "    def __init__(self, name: str, petals: int, price: float):\n",
    "        self._name = name\n",
    "        self._petals = petals\n",
    "        self._price = price\n",
    "    \n",
    "    def get_name(self):\n",
    "        return self._name\n",
    "    \n",
    "    def set_name(self, name: str):\n",
    "        self._name = name\n",
    "    \n",
    "    def get_petals(self):\n",
    "        return self._petals\n",
    "    \n",
    "    def set_petals(self, petals: int):\n",
    "        self._petals = petals\n",
    "        \n",
    "    def get_price(self):\n",
    "        return self._price\n",
    "    \n",
    "    def set_price(self, price: float):\n",
    "        self._price = price"
   ]
  },
  {
   "cell_type": "markdown",
   "metadata": {},
   "source": [
    "### R-2.5, 2.6, 2.7"
   ]
  },
  {
   "cell_type": "code",
   "execution_count": 37,
   "metadata": {},
   "outputs": [],
   "source": [
    "class CreditCard:\n",
    "    \"\"\"Credit card class implementation\"\"\"\n",
    "    \n",
    "    def __init__ (self, customer, bank, acnt, limit, balance = 0):\n",
    "        \"\"\"Create a new credit card instance.\n",
    "\n",
    "        The initial balance is zero.\n",
    "\n",
    "        customer the name of the customer (e.g., John Bowman )\n",
    "        bank the name of the bank (e.g., California Savings )\n",
    "        acnt the acount identifier (e.g., 5391 0375 9387 5309 )\n",
    "        limit credit limit (measured in dollars)\n",
    "        \"\"\"\n",
    "        self._customer = customer\n",
    "        self._bank = bank\n",
    "        self._account = acnt\n",
    "        self._limit = limit\n",
    "        self._balance = balance\n",
    "        \n",
    "    def get_customer(self):\n",
    "        \"\"\"Return name of the customer.\"\"\"\n",
    "        return self._customer\n",
    "\n",
    "    def get_bank(self):\n",
    "        \"\"\"Return the bank s name.\"\"\"\n",
    "        return self._bank\n",
    "    \n",
    "    def get_account(self):\n",
    "        \"\"\"Return the card identifying number (typically stored as a string).\"\"\"\n",
    "        return self._account\n",
    "    \n",
    "    def get_limit(self):\n",
    "        \"\"\"Return current credit limit.\"\"\"\n",
    "        return self._limit\n",
    "\n",
    "    def get_balance(self):\n",
    "        \"\"\"Return current balance.\"\"\"\n",
    "        return self._balance\n",
    "    \n",
    "    def charge(self, price):\n",
    "        \"\"\"Charge given price to the card, assuming sufficient credit limit.\n",
    "\n",
    "        Return True if charge was processed; False if charge was denied.\n",
    "        \"\"\"\n",
    "        if not isinstance(price, (int, float)):\n",
    "            raise TypeError('price needs to be a number!')\n",
    "        \n",
    "        if price + self._balance > self._limit: # if charge would exceed limit,\n",
    "            return False # cannot accept charge\n",
    "        else:\n",
    "            self._balance += price\n",
    "        return True\n",
    "\n",
    "    def make_payment(self, amount):\n",
    "        \"\"\"Process customer payment that reduces balance\"\"\"\n",
    "        \n",
    "        if not isinstance(amount, (int, float)):\n",
    "            raise TypeError('amount needs to be a number!')\n",
    "        elif amount < 0:\n",
    "            raise ValueError('amount cannot be negative!')\n",
    "            \n",
    "        self._balance -= amount\n",
    "        \n",
    "\n",
    "my_card = CreditCard('John Doe', 'CITI', '1205', 50000)\n",
    "my_card2 = CreditCard('Johnny', 'Metro', 'XYZ', 20000, 100)"
   ]
  },
  {
   "cell_type": "markdown",
   "metadata": {},
   "source": [
    "### R-2.5"
   ]
  },
  {
   "cell_type": "markdown",
   "metadata": {},
   "source": [
    "Use the techniques of Section 1.7 to revise the charge and make payment\n",
    "methods of the CreditCard class to ensure that the caller sends a number\n",
    "as a parameter."
   ]
  },
  {
   "cell_type": "code",
   "execution_count": 38,
   "metadata": {},
   "outputs": [
    {
     "ename": "TypeError",
     "evalue": "price needs to be a number!",
     "output_type": "error",
     "traceback": [
      "\u001b[1;31m---------------------------------------------------------------------------\u001b[0m",
      "\u001b[1;31mTypeError\u001b[0m                                 Traceback (most recent call last)",
      "\u001b[1;32m<ipython-input-38-453d4dd37165>\u001b[0m in \u001b[0;36m<module>\u001b[1;34m\u001b[0m\n\u001b[1;32m----> 1\u001b[1;33m \u001b[0mprint\u001b[0m\u001b[1;33m(\u001b[0m\u001b[0mmy_card\u001b[0m\u001b[1;33m.\u001b[0m\u001b[0mcharge\u001b[0m\u001b[1;33m(\u001b[0m\u001b[1;34m'twenty'\u001b[0m\u001b[1;33m)\u001b[0m\u001b[1;33m)\u001b[0m\u001b[1;33m\u001b[0m\u001b[1;33m\u001b[0m\u001b[0m\n\u001b[0m\u001b[0;32m      2\u001b[0m \u001b[0mprint\u001b[0m\u001b[1;33m(\u001b[0m\u001b[0mmy_card\u001b[0m\u001b[1;33m.\u001b[0m\u001b[0mmake_payment\u001b[0m\u001b[1;33m(\u001b[0m\u001b[1;34m'twenty'\u001b[0m\u001b[1;33m)\u001b[0m\u001b[1;33m)\u001b[0m\u001b[1;33m\u001b[0m\u001b[1;33m\u001b[0m\u001b[0m\n",
      "\u001b[1;32m<ipython-input-37-299f59fdc604>\u001b[0m in \u001b[0;36mcharge\u001b[1;34m(self, price)\u001b[0m\n\u001b[0;32m     44\u001b[0m         \"\"\"\n\u001b[0;32m     45\u001b[0m         \u001b[1;32mif\u001b[0m \u001b[1;32mnot\u001b[0m \u001b[0misinstance\u001b[0m\u001b[1;33m(\u001b[0m\u001b[0mprice\u001b[0m\u001b[1;33m,\u001b[0m \u001b[1;33m(\u001b[0m\u001b[0mint\u001b[0m\u001b[1;33m,\u001b[0m \u001b[0mfloat\u001b[0m\u001b[1;33m)\u001b[0m\u001b[1;33m)\u001b[0m\u001b[1;33m:\u001b[0m\u001b[1;33m\u001b[0m\u001b[1;33m\u001b[0m\u001b[0m\n\u001b[1;32m---> 46\u001b[1;33m             \u001b[1;32mraise\u001b[0m \u001b[0mTypeError\u001b[0m\u001b[1;33m(\u001b[0m\u001b[1;34m'price needs to be a number!'\u001b[0m\u001b[1;33m)\u001b[0m\u001b[1;33m\u001b[0m\u001b[1;33m\u001b[0m\u001b[0m\n\u001b[0m\u001b[0;32m     47\u001b[0m \u001b[1;33m\u001b[0m\u001b[0m\n\u001b[0;32m     48\u001b[0m         \u001b[1;32mif\u001b[0m \u001b[0mprice\u001b[0m \u001b[1;33m+\u001b[0m \u001b[0mself\u001b[0m\u001b[1;33m.\u001b[0m\u001b[0m_balance\u001b[0m \u001b[1;33m>\u001b[0m \u001b[0mself\u001b[0m\u001b[1;33m.\u001b[0m\u001b[0m_limit\u001b[0m\u001b[1;33m:\u001b[0m \u001b[1;31m# if charge would exceed limit,\u001b[0m\u001b[1;33m\u001b[0m\u001b[1;33m\u001b[0m\u001b[0m\n",
      "\u001b[1;31mTypeError\u001b[0m: price needs to be a number!"
     ]
    }
   ],
   "source": [
    "print(my_card.charge('twenty'))\n",
    "print(my_card.make_payment('twenty'))"
   ]
  },
  {
   "cell_type": "markdown",
   "metadata": {},
   "source": [
    "### R-2.6"
   ]
  },
  {
   "cell_type": "markdown",
   "metadata": {},
   "source": [
    "If the parameter to the make payment method of the CreditCard class\n",
    "were a negative number, that would have the effect of raising the balance\n",
    "on the account. Revise the implementation so that it raises a ValueError if\n",
    "a negative value is sent."
   ]
  },
  {
   "cell_type": "code",
   "execution_count": 39,
   "metadata": {},
   "outputs": [
    {
     "ename": "ValueError",
     "evalue": "amount cannot be negative!",
     "output_type": "error",
     "traceback": [
      "\u001b[1;31m---------------------------------------------------------------------------\u001b[0m",
      "\u001b[1;31mValueError\u001b[0m                                Traceback (most recent call last)",
      "\u001b[1;32m<ipython-input-39-f4105bc3145b>\u001b[0m in \u001b[0;36m<module>\u001b[1;34m\u001b[0m\n\u001b[1;32m----> 1\u001b[1;33m \u001b[0mprint\u001b[0m\u001b[1;33m(\u001b[0m\u001b[0mmy_card\u001b[0m\u001b[1;33m.\u001b[0m\u001b[0mmake_payment\u001b[0m\u001b[1;33m(\u001b[0m\u001b[1;33m-\u001b[0m\u001b[1;36m1\u001b[0m\u001b[1;33m)\u001b[0m\u001b[1;33m)\u001b[0m\u001b[1;33m\u001b[0m\u001b[1;33m\u001b[0m\u001b[0m\n\u001b[0m",
      "\u001b[1;32m<ipython-input-37-299f59fdc604>\u001b[0m in \u001b[0;36mmake_payment\u001b[1;34m(self, amount)\u001b[0m\n\u001b[0;32m     58\u001b[0m             \u001b[1;32mraise\u001b[0m \u001b[0mTypeError\u001b[0m\u001b[1;33m(\u001b[0m\u001b[1;34m'amount needs to be a number!'\u001b[0m\u001b[1;33m)\u001b[0m\u001b[1;33m\u001b[0m\u001b[1;33m\u001b[0m\u001b[0m\n\u001b[0;32m     59\u001b[0m         \u001b[1;32melif\u001b[0m \u001b[0mamount\u001b[0m \u001b[1;33m<\u001b[0m \u001b[1;36m0\u001b[0m\u001b[1;33m:\u001b[0m\u001b[1;33m\u001b[0m\u001b[1;33m\u001b[0m\u001b[0m\n\u001b[1;32m---> 60\u001b[1;33m             \u001b[1;32mraise\u001b[0m \u001b[0mValueError\u001b[0m\u001b[1;33m(\u001b[0m\u001b[1;34m'amount cannot be negative!'\u001b[0m\u001b[1;33m)\u001b[0m\u001b[1;33m\u001b[0m\u001b[1;33m\u001b[0m\u001b[0m\n\u001b[0m\u001b[0;32m     61\u001b[0m \u001b[1;33m\u001b[0m\u001b[0m\n\u001b[0;32m     62\u001b[0m         \u001b[0mself\u001b[0m\u001b[1;33m.\u001b[0m\u001b[0m_balance\u001b[0m \u001b[1;33m-=\u001b[0m \u001b[0mamount\u001b[0m\u001b[1;33m\u001b[0m\u001b[1;33m\u001b[0m\u001b[0m\n",
      "\u001b[1;31mValueError\u001b[0m: amount cannot be negative!"
     ]
    }
   ],
   "source": [
    "print(my_card.make_payment(-1))"
   ]
  },
  {
   "cell_type": "markdown",
   "metadata": {},
   "source": [
    "### R-2.7"
   ]
  },
  {
   "cell_type": "markdown",
   "metadata": {},
   "source": [
    "The CreditCard class of Section 2.3 initializes the balance of a new account to zero. Modify that class so that a new account can be given a\n",
    "nonzero balance using an optional fifth parameter to the constructor. The\n",
    "four-parameter constructor syntax should continue to produce an account\n",
    "with zero balance."
   ]
  },
  {
   "cell_type": "code",
   "execution_count": 40,
   "metadata": {},
   "outputs": [
    {
     "name": "stdout",
     "output_type": "stream",
     "text": [
      "0\n",
      "100\n"
     ]
    }
   ],
   "source": [
    "print(my_card.get_balance())\n",
    "print(my_card2.get_balance())"
   ]
  },
  {
   "cell_type": "markdown",
   "metadata": {},
   "source": [
    "### R-2.8"
   ]
  },
  {
   "cell_type": "markdown",
   "metadata": {},
   "source": [
    "Modify the declaration of the first for loop in the CreditCard tests, from\n",
    "Code Fragment 2.3, so that it will eventually cause exactly one of the three\n",
    "credit cards to go over its credit limit. Which credit card is it?"
   ]
  },
  {
   "cell_type": "code",
   "execution_count": 12,
   "metadata": {},
   "outputs": [
    {
     "name": "stdout",
     "output_type": "stream",
     "text": [
      "Customer = John Bowman\n",
      "Bank = California Savings\n",
      "Account = 5391 0375 9387 5309\n",
      "Limit = 2500\n",
      "Balance = 1653\n",
      "---------------------\n",
      "Customer = John Bowman\n",
      "Bank = California Federal\n",
      "Account = 3485 0399 3395 1954\n",
      "Limit = 3500\n",
      "Balance = 3306\n",
      "---------------------\n",
      "Customer = John Bowman\n",
      "Bank = California Finance\n",
      "Account = 5391 0375 9387 5309\n",
      "Limit = 5000\n",
      "Balance = 4959\n",
      "---------------------\n"
     ]
    }
   ],
   "source": [
    "wallet = []\n",
    "wallet.append(CreditCard('John Bowman','California Savings','5391 0375 9387 5309', 2500) )\n",
    "wallet.append(CreditCard('John Bowman','California Federal','3485 0399 3395 1954', 3500) )\n",
    "wallet.append(CreditCard('John Bowman','California Finance','5391 0375 9387 5309', 5000) )\n",
    "\n",
    "\"\"\"\n",
    "Sum of AP for first n numbers = n/2 * (a1 + (n - 1) * d)\n",
    "d = a2 - a1\n",
    "\n",
    "Third one's limit is 5000, so we need to determine n:\n",
    "\n",
    "5000 = n/2 * (3 + (n - 1) * 3)\n",
    "n = 57.73\n",
    "\"\"\"\n",
    "\n",
    "for val in range(1, 58):\n",
    "    wallet[0].charge(val)\n",
    "    wallet[1].charge(2*val)\n",
    "    wallet[2].charge(3*val)\n",
    "    \n",
    "for c in range(3):\n",
    "    print('Customer =', wallet[c].get_customer())\n",
    "    print('Bank =', wallet[c].get_bank())\n",
    "    print('Account =', wallet[c].get_account())\n",
    "    print('Limit =', wallet[c].get_limit())\n",
    "    print('Balance =', wallet[c].get_balance()) \n",
    "    print('---------------------')"
   ]
  },
  {
   "cell_type": "markdown",
   "metadata": {},
   "source": [
    "### R-2.9, 2.10, 2.11, 2.12, 2.13, 2.14, 2.15"
   ]
  },
  {
   "cell_type": "code",
   "execution_count": 24,
   "metadata": {},
   "outputs": [],
   "source": [
    "class Vector:\n",
    "    \"\"\"Vector representation based on a list\"\"\"\n",
    "    \n",
    "    def __init__(self, d):\n",
    "        if isinstance(d, (int, float)):\n",
    "            self._coords = [0] * d\n",
    "        elif isinstance(d, (Sequence)):\n",
    "            self._coords = d[:]\n",
    "        \n",
    "    def __len__ (self):\n",
    "        \"\"\"Return the dimension of the vector.\"\"\"\n",
    "        return len(self._coords)\n",
    "\n",
    "    def __getitem__ (self, j):\n",
    "        \"\"\"Return jth coordinate of vector.\"\"\"\n",
    "        return self._coords[j]\n",
    "\n",
    "    def __setitem__ (self, j, val):\n",
    "        \"\"\"Set jth coordinate of vector to given value.\"\"\"\n",
    "        self._coords[j] = val\n",
    "\n",
    "    def __add__(self, other):\n",
    "        \"\"\"Return sum of two vectors.\"\"\"\n",
    "        if len(self) != len(other): # relies on len method\n",
    "            raise ValueError('dimensions must agree')\n",
    "        result = Vector(len(self)) # start with vector of zeros\n",
    "        for j in range(len(self)):\n",
    "            result[j] = self[j] + other[j]\n",
    "        return result\n",
    "    \n",
    "    def __radd__(self, other):\n",
    "        \"\"\"Return sum of two vectors.\"\"\"\n",
    "        return self.__add__(other)\n",
    "    \n",
    "    def __mul__(self, d):\n",
    "        \"\"\"Return product of Vector and some integer d\"\"\"\n",
    "        if isinstance(d, (int, float)):\n",
    "            return [d * x for x in self]\n",
    "        elif isinstance(d, (Vector)):\n",
    "            result = Vector(len(self))\n",
    "            for j in range(len(self)):\n",
    "                result[j] = self[j] * d[j]\n",
    "            return result\n",
    "    \n",
    "    def __rmul__(self, d):\n",
    "        \"\"\"Return product of Vector and some integer d\"\"\"\n",
    "        return [x * d for x in self]\n",
    "    \n",
    "    def __sub__(self, other):\n",
    "        \"\"\"Return difference of two vectors.\"\"\"\n",
    "        if len(self) != len(other): # must be equal\n",
    "            raise ValueError('dimensions must agree')\n",
    "        result = Vector(len(self))\n",
    "        for j in range(len(self)):\n",
    "            result[j] = self[j] - other[j]\n",
    "        return result\n",
    "    \n",
    "    def __neg__(self):\n",
    "        \"\"\"Return negated vector instance.\"\"\"\n",
    "        return [x * (-1) for x in self]\n",
    "\n",
    "    def __eq__ (self, other):\n",
    "        \"\"\"Return True if vector has same coordinates as other.\"\"\"\n",
    "        return self._coords == other._coords\n",
    "\n",
    "    def __ne__ (self, other):\n",
    "        \"\"\"Return True if vector differs from other.\"\"\"\n",
    "        return not self == other # rely on existing eq definition\n",
    "\n",
    "    def __str__ (self):\n",
    "        \"\"\"Produce string representation of vector.\"\"\"\n",
    "        return '<' + str(self._coords)[1:-1] + '>' # adapt list representation"
   ]
  },
  {
   "cell_type": "markdown",
   "metadata": {},
   "source": [
    "### R-2.9"
   ]
  },
  {
   "cell_type": "markdown",
   "metadata": {},
   "source": [
    "Implement the \\_\\_sub\\_\\_ method for the Vector class of Section 2.3.3, so\n",
    "that the expression u−v returns a new vector instance representing the\n",
    "difference between two vectors."
   ]
  },
  {
   "cell_type": "code",
   "execution_count": 43,
   "metadata": {},
   "outputs": [
    {
     "name": "stdout",
     "output_type": "stream",
     "text": [
      "<0, 2, 66>\n",
      "<0, 4, 142>\n"
     ]
    }
   ],
   "source": [
    "a = Vector(3)\n",
    "a[0] = 1\n",
    "a[1] = 5\n",
    "a[2] = 143\n",
    "\n",
    "b = Vector(3)\n",
    "b[0] = 1\n",
    "b[1] = 3\n",
    "b[2] = 77\n",
    "\n",
    "print(a - b)\n",
    "print(a - [1, 1, 1])"
   ]
  },
  {
   "cell_type": "markdown",
   "metadata": {},
   "source": [
    "### R-2.10"
   ]
  },
  {
   "cell_type": "markdown",
   "metadata": {},
   "source": [
    "Implement the neg method for the Vector class of Section 2.3.3, so\n",
    "that the expression −v returns a new vector instance whose coordinates\n",
    "are all the negated values of the respective coordinates of v."
   ]
  },
  {
   "cell_type": "code",
   "execution_count": 49,
   "metadata": {},
   "outputs": [
    {
     "name": "stdout",
     "output_type": "stream",
     "text": [
      "[-23, 3, -5]\n"
     ]
    }
   ],
   "source": [
    "a = Vector(3)\n",
    "a[0] = 23\n",
    "a[1] = -3\n",
    "a[2] = 5\n",
    "\n",
    "print(-a)"
   ]
  },
  {
   "cell_type": "markdown",
   "metadata": {},
   "source": [
    "### R-2.11"
   ]
  },
  {
   "cell_type": "markdown",
   "metadata": {},
   "source": [
    "In Section 2.3.3, we note that our Vector class supports a syntax such as\n",
    "v = u + [5, 3, 10, −2, 1], in which the sum of a vector and list returns\n",
    "a new vector. However, the syntax v = [5, 3, 10, −2, 1] + u is illegal.\n",
    "Explain how the Vector class definition can be revised so that this syntax\n",
    "generates a new vector."
   ]
  },
  {
   "cell_type": "code",
   "execution_count": 59,
   "metadata": {
    "scrolled": true
   },
   "outputs": [
    {
     "name": "stdout",
     "output_type": "stream",
     "text": [
      "<2, 4, 6>\n",
      "[1, 2, 3, 1, 2, 3]\n"
     ]
    }
   ],
   "source": [
    "a = Vector(3)\n",
    "a[0] = 1\n",
    "a[1] = 2\n",
    "a[2] = 3\n",
    "\n",
    "print([1, 2, 3] + a) # Vector\n",
    "print([1, 2, 3] + [1, 2, 3]) # regular list"
   ]
  },
  {
   "cell_type": "markdown",
   "metadata": {},
   "source": [
    "### R-2.12"
   ]
  },
  {
   "cell_type": "markdown",
   "metadata": {},
   "source": [
    "Implement the \\_\\_mul\\_\\_ method for the Vector class of Section 2.3.3, so\n",
    "that the expression v * 3 returns a new vector with coordinates that are 3\n",
    "times the respective coordinates of v."
   ]
  },
  {
   "cell_type": "code",
   "execution_count": 63,
   "metadata": {},
   "outputs": [
    {
     "name": "stdout",
     "output_type": "stream",
     "text": [
      "[3, 6, 9]\n"
     ]
    }
   ],
   "source": [
    "a = Vector(3)\n",
    "a[0] = 1\n",
    "a[1] = 2\n",
    "a[2] = 3\n",
    "\n",
    "print(a * 3)"
   ]
  },
  {
   "cell_type": "markdown",
   "metadata": {},
   "source": [
    "### R-2.13"
   ]
  },
  {
   "cell_type": "markdown",
   "metadata": {},
   "source": [
    "Exercise R-2.12 asks for an implementation of mul , for the Vector\n",
    "class of Section 2.3.3, to provide support for the syntax v * 3. Implement\n",
    "the rmul method, to provide additional support for syntax 3 * v."
   ]
  },
  {
   "cell_type": "code",
   "execution_count": 69,
   "metadata": {},
   "outputs": [
    {
     "name": "stdout",
     "output_type": "stream",
     "text": [
      "[3, 6, 9]\n"
     ]
    }
   ],
   "source": [
    "a = Vector(3)\n",
    "a[0] = 1\n",
    "a[1] = 2\n",
    "a[2] = 3\n",
    "\n",
    "print(3 * a)"
   ]
  },
  {
   "cell_type": "markdown",
   "metadata": {},
   "source": [
    "### R-2.14"
   ]
  },
  {
   "cell_type": "markdown",
   "metadata": {},
   "source": [
    "Implement the mul method for the Vector class of Section 2.3.3, so\n",
    "that the expression u v returns a scalar that represents the dot product of\n",
    "the vectors, that is, ∑d i=1 ui ·vi."
   ]
  },
  {
   "cell_type": "code",
   "execution_count": 76,
   "metadata": {},
   "outputs": [
    {
     "name": "stdout",
     "output_type": "stream",
     "text": [
      "<1, 15, 42>\n"
     ]
    }
   ],
   "source": [
    "a = Vector(3)\n",
    "a[0] = 1\n",
    "a[1] = 5\n",
    "a[2] = 6\n",
    "\n",
    "b = Vector(3)\n",
    "b[0] = 1\n",
    "b[1] = 3\n",
    "b[2] = 7\n",
    "\n",
    "print(a * b)"
   ]
  },
  {
   "cell_type": "markdown",
   "metadata": {},
   "source": [
    "### R-2.15"
   ]
  },
  {
   "cell_type": "markdown",
   "metadata": {},
   "source": [
    "The Vector class of Section 2.3.3 provides a constructor that takes an integer d, and produces a d-dimensional vector with all coordinates equal to 0. Another convenient form for creating a new vector would be to send the\n",
    "constructor a parameter that is some iterable type representing a sequence\n",
    "of numbers, and to create a vector with dimension equal to the length of\n",
    "that sequence and coordinates equal to the sequence values. For example,\n",
    "Vector([4, 7, 5]) would produce a three-dimensional vector with coordinates <4, 7, 5>. Modify the constructor so that either of these forms is\n",
    "acceptable; that is, if a single integer is sent, it produces a vector of that\n",
    "dimension with all zeros, but if a sequence of numbers is provided, it produces a vector with coordinates based on that sequence."
   ]
  },
  {
   "cell_type": "code",
   "execution_count": 90,
   "metadata": {},
   "outputs": [
    {
     "name": "stdout",
     "output_type": "stream",
     "text": [
      "<0, 0, 0>\n",
      "<1, 2, 3>\n",
      "<4, 5, 6>\n"
     ]
    }
   ],
   "source": [
    "a = Vector(3)\n",
    "b = Vector([1, 2, 3])\n",
    "c = Vector((4, 5, 6))\n",
    "\n",
    "print(a)\n",
    "print(b)\n",
    "print(c)"
   ]
  },
  {
   "cell_type": "markdown",
   "metadata": {},
   "source": [
    "### R-2.16"
   ]
  },
  {
   "cell_type": "markdown",
   "metadata": {},
   "source": [
    "Our Range class, from Section 2.3.5, relies on the formula  \n",
    "\n",
    "    max(0, (stop − start + step − 1) // step)  \n",
    "    \n",
    "to compute the number of elements in the range. It is not immediately evident why this formula provides the correct calculation, even if assuming\n",
    "a positive step size. Justify this formula, in your own words."
   ]
  },
  {
   "cell_type": "markdown",
   "metadata": {},
   "source": [
    "    This formula takes into account step size: we need to divide the difference (stop - start) by the step size but since it begins with 0 we add (step - 1). \n",
    "    For incorrect combinations of start, stop and step we have 0."
   ]
  },
  {
   "cell_type": "markdown",
   "metadata": {},
   "source": [
    "### R-2.17"
   ]
  },
  {
   "cell_type": "markdown",
   "metadata": {},
   "source": [
    "Draw a class inheritance diagram for the following set of classes:  \n",
    "• Class Goat extends object and adds an instance variable tail and  \n",
    "methods milk() and jump().  \n",
    "• Class Pig extends object and adds an instance variable nose and  \n",
    "methods eat(food) and wallow().  \n",
    "• Class Horse extends object and adds instance variables height and  \n",
    "color, and methods run() and jump().  \n",
    "• Class Racer extends Horse and adds a method race().  \n",
    "• Class Equestrian extends Horse, adding an instance variable weight  \n",
    "and methods trot() and is trained().  "
   ]
  },
  {
   "cell_type": "markdown",
   "metadata": {},
   "source": [
    "                            object\n",
    "                        /      |      \\\n",
    "                      Goat    Pig    Horse\n",
    "                                    /     \\\n",
    "                                 Racer    Equesterian  "
   ]
  },
  {
   "cell_type": "markdown",
   "metadata": {},
   "source": [
    "### R-2.18, 2.19"
   ]
  },
  {
   "cell_type": "code",
   "execution_count": 33,
   "metadata": {},
   "outputs": [],
   "source": [
    "class Progression:\n",
    "    \"\"\"Iterator producing a generic progression.\n",
    "    Default iterator produces the whole numbers 0, 1, 2, ...\"\"\"\n",
    "    \n",
    "    def __init__(self, start=0):\n",
    "        \"\"\"Initialize current to the first value of the progression.\"\"\"\n",
    "        self._current = start\n",
    "\n",
    "    def _advance(self):\n",
    "        \"\"\"Update self._current to a new value.\n",
    "\n",
    "        This should be overridden by a subclass to customize progression.\n",
    "\n",
    "        By convention, if current is set to None, this designates the\n",
    "        end of a finite progression.\n",
    "        \"\"\"\n",
    "        self._current += 1\n",
    "\n",
    "    def __next__(self):\n",
    "        \"\"\"Return the next element, or else raise StopIteration error.\"\"\"\n",
    "        if self._current is None:    # our convention to end a progression\n",
    "            raise StopIteration()\n",
    "        else:\n",
    "            answer = self._current     # record current value to return\n",
    "        self._advance()            # advance to prepare for next time\n",
    "        return answer              # return the answer\n",
    "\n",
    "    def __iter__(self):\n",
    "        \"\"\"By convention, an iterator must return itself as an iterator.\"\"\"\n",
    "        return self                  \n",
    "\n",
    "    def print_progression(self, n):\n",
    "        \"\"\"Print next n values of the progression.\"\"\"\n",
    "        print(' '.join(str(next(self)) for j in range(n)))\n",
    "        \n",
    "    def get_nth(self, n):\n",
    "        \"\"\"Get nth value of a progression\"\"\"\n",
    "        a = [next(self) for _ in range(n)]\n",
    "        return a[n - 1]\n",
    "\n",
    "class ArithmeticProgression(Progression):  # inherit from Progression\n",
    "    \"\"\"Iterator producing an arithmetic progression.\"\"\"\n",
    "\n",
    "    def __init__(self, increment=1, start=0):\n",
    "        \"\"\"Create a new arithmetic progression.\n",
    "\n",
    "        increment  the fixed constant to add to each term (default 1)\n",
    "        start      the first term of the progression (default 0)\n",
    "        \"\"\"\n",
    "        super().__init__(start)                # initialize base class\n",
    "        self._increment = increment\n",
    "\n",
    "    def _advance(self):                      # override inherited version\n",
    "        \"\"\"Update current value by adding the fixed increment.\"\"\"\n",
    "        self._current += self._increment\n",
    "\n",
    "    \n",
    "class GeometricProgression(Progression):   # inherit from Progression\n",
    "    \"\"\"Iterator producing a geometric progression.\"\"\"\n",
    "\n",
    "    def __init__(self, base=2, start=1):\n",
    "        \"\"\"Create a new geometric progression.\n",
    "\n",
    "        base       the fixed constant multiplied to each term (default 2)\n",
    "        start      the first term of the progression (default 1)\n",
    "        \"\"\"\n",
    "        super().__init__(start)\n",
    "        self._base = base\n",
    "\n",
    "    def _advance(self):                      # override inherited version\n",
    "        \"\"\"Update current value by multiplying it by the base value.\"\"\"\n",
    "        self._current *= self._base\n",
    "\n",
    "\n",
    "class FibonacciProgression(Progression):\n",
    "    \"\"\"Iterator producing a generalized Fibonacci progression.\"\"\"\n",
    "  \n",
    "    def __init__(self, first=0, second=1):\n",
    "        \"\"\"Create a new fibonacci progression.\n",
    "\n",
    "        first      the first term of the progression (default 0)\n",
    "        second     the second term of the progression (default 1)\n",
    "        \"\"\"\n",
    "        super().__init__(first)              # start progression at first\n",
    "        self._prev = second - first          # fictitious value preceding the first\n",
    "\n",
    "    def _advance(self):\n",
    "        \"\"\"Update current value by taking sum of previous two.\"\"\"\n",
    "        self._prev, self._current = self._current, self._prev + self._current"
   ]
  },
  {
   "cell_type": "markdown",
   "metadata": {},
   "source": [
    "### R-2.18"
   ]
  },
  {
   "cell_type": "markdown",
   "metadata": {},
   "source": [
    "Give a short fragment of Python code that uses the progression classes\n",
    "from Section 2.4.2 to find the 8th value of a Fibonacci progression that\n",
    "starts with 2 and 2 as its first two values."
   ]
  },
  {
   "cell_type": "code",
   "execution_count": 36,
   "metadata": {},
   "outputs": [
    {
     "name": "stdout",
     "output_type": "stream",
     "text": [
      "42\n"
     ]
    }
   ],
   "source": [
    "fib = FibonacciProgression(2, 2)\n",
    "print(fib.get_nth(8))"
   ]
  },
  {
   "cell_type": "markdown",
   "metadata": {},
   "source": [
    "### R-2.19"
   ]
  },
  {
   "cell_type": "markdown",
   "metadata": {},
   "source": [
    "When using the ArithmeticProgression class of Section 2.4.2 with an increment of 128 and a start of 0, how many calls to next can we make\n",
    "before we reach an integer of 2^63 or larger?"
   ]
  },
  {
   "cell_type": "code",
   "execution_count": 53,
   "metadata": {},
   "outputs": [
    {
     "name": "stdout",
     "output_type": "stream",
     "text": [
      "72057594037927936\n"
     ]
    }
   ],
   "source": [
    "\"\"\"\n",
    "nth term of progression Tn = a + (n - 1) * d\n",
    "for n = (Tn - a) // d\n",
    "\n",
    "for 2**63 and d = 128, a = 0\n",
    "\"\"\"\n",
    "\n",
    "print(2**63 // 128)"
   ]
  },
  {
   "cell_type": "markdown",
   "metadata": {},
   "source": [
    "### R-2.20"
   ]
  },
  {
   "cell_type": "markdown",
   "metadata": {},
   "source": [
    "What are some potential efficiency disadvantages of having very deep inheritance trees, that is, a large set of classes, A, B, C, and so on, such that\n",
    "B extends A, C extends B, D extends C, etc.?"
   ]
  },
  {
   "cell_type": "markdown",
   "metadata": {},
   "source": [
    "```\n",
    "Keeping track of all inherited behaviors upon tree extension\n",
    "Ambiguity of polymorphism\n",
    "```"
   ]
  },
  {
   "cell_type": "markdown",
   "metadata": {},
   "source": [
    "### R-2.21"
   ]
  },
  {
   "cell_type": "markdown",
   "metadata": {},
   "source": [
    "What are some potential efficiency disadvantages of having very shallow\n",
    "inheritance trees, that is, a large set of classes, A, B, C, and so on, such\n",
    "that all of these classes extend a single class,"
   ]
  },
  {
   "cell_type": "markdown",
   "metadata": {},
   "source": [
    "```\n",
    "Lack of common behaviors\n",
    "Diamond problem\n",
    "```"
   ]
  },
  {
   "cell_type": "markdown",
   "metadata": {},
   "source": [
    "### R-2.22, 2.23"
   ]
  },
  {
   "cell_type": "code",
   "execution_count": 48,
   "metadata": {},
   "outputs": [],
   "source": [
    "from abc import ABCMeta, abstractmethod           # need these definitions\n",
    "\n",
    "class Sequence(metaclass=ABCMeta):\n",
    "    \"\"\"Our own version of collections.Sequence abstract base class.\"\"\"\n",
    "\n",
    "    @abstractmethod\n",
    "    def __len__(self):\n",
    "        \"\"\"Return the length of the sequence.\"\"\"\n",
    "\n",
    "    @abstractmethod\n",
    "    def __getitem__(self, j):\n",
    "        \"\"\"Return the element at index j of the sequence.\"\"\"\n",
    "\n",
    "    def __contains__(self, val):\n",
    "        \"\"\"Return True if val found in the sequence; False otherwise.\"\"\"\n",
    "        for j in range(len(self)):\n",
    "            if self[j] == val:                          # found match\n",
    "                return True\n",
    "        return False\n",
    "    \n",
    "    def __eq__(self, other):\n",
    "        \"\"\"Return True when the two sequences are element by element equivalent; False otherwise.\"\"\"\n",
    "        if len(self) != len(other):\n",
    "            raise ValueError('dimensions must agree')\n",
    "        for j in range(len(self)):\n",
    "            if self[j] != other[j]:\n",
    "                return False\n",
    "        return True\n",
    "    \n",
    "    def __lt__(self, other):\n",
    "        \"\"\"Return True when the sequence is less than the other; False otherwise\"\"\"\n",
    "        for j in range(min(len(self), len(other))):\n",
    "            if self[j] > other[j]:\n",
    "                return False\n",
    "        if len(self) >= len(other):\n",
    "            return False\n",
    "        return True\n",
    "\n",
    "    def index(self, val):\n",
    "        \"\"\"Return leftmost index at which val is found (or raise ValueError).\"\"\"\n",
    "        for j in range(len(self)):\n",
    "            if self[j] == val:                          # leftmost match\n",
    "                return j\n",
    "        raise ValueError('value not in sequence')     # never found a match\n",
    "\n",
    "    def count(self, val):\n",
    "        \"\"\"Return the number of elements equal to given value.\"\"\"\n",
    "        k = 0\n",
    "        for j in range(len(self)):\n",
    "            if self[j] == val:                          # found a match\n",
    "                k += 1\n",
    "        return k\n",
    "    \n",
    "    \n",
    "class SequenceChild(Sequence):\n",
    "    \"\"\"Sequence child\"\"\"\n",
    "    \n",
    "    def __init__(self, elements):\n",
    "        if not isinstance(elements, List):\n",
    "            raise ValueError('Wrong sequence type!')\n",
    "        self._elements = elements\n",
    "        \n",
    "    def __len__(self):\n",
    "        return len(self._elements)\n",
    "    \n",
    "    def __getitem__(self, j):\n",
    "        return self._elements[j]\n",
    "    \n"
   ]
  },
  {
   "cell_type": "markdown",
   "metadata": {},
   "source": [
    "### R-2.22"
   ]
  },
  {
   "cell_type": "markdown",
   "metadata": {},
   "source": [
    "The collections.Sequence abstract base class does not provide support for\n",
    "comparing two sequences to each other. Modify our Sequence class from\n",
    "Code Fragment 2.14 to include a definition for the eq method, so\n",
    "that expression seq1 == seq2 will return True precisely when the two\n",
    "sequences are element by element equivalent."
   ]
  },
  {
   "cell_type": "code",
   "execution_count": 50,
   "metadata": {},
   "outputs": [
    {
     "name": "stdout",
     "output_type": "stream",
     "text": [
      "False\n",
      "True\n"
     ]
    }
   ],
   "source": [
    "a = SequenceChild([1, 2, 3])\n",
    "b = SequenceChild([2, 3, 1])\n",
    "\n",
    "print(a == b)\n",
    "\n",
    "a = SequenceChild([4, 5, 6])\n",
    "b = SequenceChild([4, 5, 6])\n",
    "\n",
    "print(a == b)"
   ]
  },
  {
   "cell_type": "markdown",
   "metadata": {},
   "source": [
    "### R-2.23"
   ]
  },
  {
   "cell_type": "markdown",
   "metadata": {},
   "source": [
    "In similar spirit to the previous problem, augment the Sequence class with\n",
    "method lt , to support lexicographic comparison seq1 < seq2."
   ]
  },
  {
   "cell_type": "code",
   "execution_count": 54,
   "metadata": {},
   "outputs": [
    {
     "name": "stdout",
     "output_type": "stream",
     "text": [
      "True\n",
      "False\n"
     ]
    }
   ],
   "source": [
    "a = SequenceChild([1, 2, 3])\n",
    "b = SequenceChild([1, 2, 3, 4])\n",
    "\n",
    "print(a < b)\n",
    "\n",
    "a = SequenceChild([3])\n",
    "b = SequenceChild([2, 5, 6])\n",
    "\n",
    "print(a < b)"
   ]
  },
  {
   "cell_type": "markdown",
   "metadata": {},
   "source": [
    "## Creativity"
   ]
  },
  {
   "cell_type": "markdown",
   "metadata": {},
   "source": [
    "### C-2.24"
   ]
  },
  {
   "cell_type": "markdown",
   "metadata": {},
   "source": [
    "Suppose you are on the design team for a new e-book reader. What are the\n",
    "primary classes and methods that the Python software for your reader will\n",
    "need? You should include an inheritance diagram for this code, but you\n",
    "do not need to write any actual code. Your software architecture should\n",
    "at least include ways for customers to buy new books, view their list of\n",
    "purchased books, and read their purchased books."
   ]
  },
  {
   "attachments": {
    "Untitled%20Diagram%281%29.png": {
     "image/png": "[encoded data removed]"
    }
   },
   "cell_type": "markdown",
   "metadata": {},
   "source": [
    "![Untitled%20Diagram%281%29.png](attachment:Untitled%20Diagram%281%29.png)"
   ]
  },
  {
   "cell_type": "markdown",
   "metadata": {},
   "source": [
    "### C-2.25"
   ]
  },
  {
   "cell_type": "markdown",
   "metadata": {},
   "source": [
    "Exercise R-2.12 uses the mul method to support multiplying a Vector\n",
    "by a number, while Exercise R-2.14 uses the mul method to support\n",
    "computing a dot product of two vectors. Give a single implementation of\n",
    "Vector. mul that uses run-time type checking to support both syntaxes\n",
    "u v and u k, where u and v designate vector instances and k represents\n",
    "a number."
   ]
  },
  {
   "cell_type": "code",
   "execution_count": 3,
   "metadata": {},
   "outputs": [],
   "source": [
    "def __mul__(self, d):\n",
    "    \"\"\"Return product of Vector and some integer d or two Vector instances\"\"\"\n",
    "    if isinstance(d, (int, float)):\n",
    "        return [d * x for x in self]\n",
    "    elif isinstance(d, (Vector)):\n",
    "        result = Vector(len(self))\n",
    "        for j in range(len(self)):\n",
    "            result[j] = self[j] * d[j]\n",
    "        return result"
   ]
  },
  {
   "cell_type": "markdown",
   "metadata": {},
   "source": [
    "### C-2.26"
   ]
  },
  {
   "cell_type": "markdown",
   "metadata": {},
   "source": [
    "The SequenceIterator class of Section 2.3.4 provides what is known as a\n",
    "forward iterator. Implement a class named ReversedSequenceIterator that\n",
    "serves as a reverse iterator for any Python sequence type. The first call to\n",
    "next should return the last element of the sequence, the second call to next\n",
    "should return the second-to-last element, and so forth."
   ]
  },
  {
   "cell_type": "code",
   "execution_count": 16,
   "metadata": {},
   "outputs": [
    {
     "name": "stdout",
     "output_type": "stream",
     "text": [
      "3\n",
      "2\n",
      "1\n"
     ]
    }
   ],
   "source": [
    "class ReversedSequenceIterator:\n",
    "    \"\"\"An iterator for any of Python's sequence types.\"\"\"\n",
    "\n",
    "    def __init__(self, sequence):\n",
    "        \"\"\"Create an iterator for the given sequence.\"\"\"\n",
    "        self._seq = sequence          # keep a reference to the underlying data\n",
    "        self._k = len(sequence)       # will decrease to n - 1 on first call to next\n",
    "\n",
    "    def __next__(self):\n",
    "        \"\"\"Return the next element, or else raise StopIteration error.\"\"\"\n",
    "        self._k -= 1                  # advance to next index\n",
    "        if self._k > -1:\n",
    "            return(self._seq[self._k])  # return the data element\n",
    "        else:\n",
    "            raise StopIteration()       # there are no more elements\n",
    "\n",
    "    def __iter__(self):\n",
    "        \"\"\"By convention, an iterator must return itself as an iterator.\"\"\"\n",
    "        return self\n",
    "    \n",
    "\n",
    "a = ReversedSequenceIterator([1, 2, 3])\n",
    "print(a.__next__())\n",
    "print(a.__next__())\n",
    "print(a.__next__())"
   ]
  },
  {
   "cell_type": "markdown",
   "metadata": {},
   "source": [
    "### C-2.27"
   ]
  },
  {
   "cell_type": "markdown",
   "metadata": {},
   "source": [
    "In Section 2.3.5, we note that our version of the Range class has implicit support for iteration, due to its explicit support of both len\n",
    "and getitem . The class also receives implicit support of the Boolean\n",
    "test, “k in r” for Range r. This test is evaluated based on a forward iteration through the range, as evidenced by the relative quickness of the test\n",
    "2 in Range(10000000) versus 9999999 in Range(10000000). Provide a\n",
    "more efficient implementation of the contains method to determine\n",
    "whether a particular value lies within a given range. The running time of\n",
    "your method should be independent of the length of the range."
   ]
  },
  {
   "cell_type": "code",
   "execution_count": 140,
   "metadata": {},
   "outputs": [
    {
     "name": "stdout",
     "output_type": "stream",
     "text": [
      "True\n"
     ]
    }
   ],
   "source": [
    "class Range:\n",
    "    \"\"\"A class that mimic's the built-in range class.\"\"\"\n",
    "\n",
    "    def __init__(self, start, stop=None, step=1):\n",
    "        \"\"\"Initialize a Range instance.\n",
    "    \n",
    "        Semantics is similar to built-in range class.\n",
    "        \"\"\"\n",
    "        if step == 0:\n",
    "            raise ValueError('step cannot be 0')\n",
    "\n",
    "        if stop is None:  # special case of range(n)\n",
    "            start, stop = 0, start  # should be treated as if range(0,n)\n",
    "\n",
    "        # calculate the effective length once\n",
    "        self._length = max(0, (stop - start + step - 1) // step)\n",
    "\n",
    "        # need knowledge of start and step (but not stop) to support __getitem__\n",
    "        self._start = start\n",
    "        self._step = step\n",
    "\n",
    "    def __len__(self):\n",
    "        \"\"\"Return number of entries in the range.\"\"\"\n",
    "        return self._length\n",
    "\n",
    "    def __getitem__(self, k):\n",
    "        \"\"\"Return entry at index k (using standard interpretation if negative).\"\"\"\n",
    "        if k < 0:\n",
    "            k += len(self)  # attempt to convert negative index\n",
    "\n",
    "        if not 0 <= k < self._length:\n",
    "            raise IndexError('index out of range')\n",
    "\n",
    "        return self._start + k * self._step\n",
    "    \n",
    "    def __contains__(self, k):\n",
    "        n = ((k + self._step - self._start) / self._step)\n",
    "        return k >= self._start and n < self._length and n % 1 == 0\n",
    "\n",
    "\n",
    "a = Range(1, 1000000000, 2)\n",
    "print(99999999 in a)"
   ]
  },
  {
   "cell_type": "markdown",
   "metadata": {},
   "source": [
    "### C-2.28, 2.29, 2.30"
   ]
  },
  {
   "cell_type": "markdown",
   "metadata": {},
   "source": [
    "<a id='another_cell'></a>"
   ]
  },
  {
   "cell_type": "code",
   "execution_count": 68,
   "metadata": {},
   "outputs": [
    {
     "name": "stdout",
     "output_type": "stream",
     "text": [
      "Customer = John Bowman\n",
      "Bank = California Savings\n",
      "Account = 5391 0375 9387 5309\n",
      "Limit = 2500\n",
      "Balance = 136\n",
      "New balance = 36\n",
      "\n",
      "Customer = John Bowman\n",
      "Bank = California Federal\n",
      "Account = 3485 0399 3395 1954\n",
      "Limit = 3500\n",
      "Balance = 272\n",
      "New balance = 172\n",
      "New balance = 72\n",
      "\n",
      "Customer = John Bowman\n",
      "Bank = California Finance\n",
      "Account = 5391 0375 9387 5309\n",
      "Limit = 5000\n",
      "Balance = 408\n",
      "New balance = 308\n",
      "New balance = 208\n",
      "New balance = 108\n",
      "New balance = 8\n",
      "\n"
     ]
    }
   ],
   "source": [
    "# %load files/credit_card.py\n",
    "class CreditCard:\n",
    "    \"\"\"A consumer credit card.\"\"\"\n",
    "\n",
    "    def __init__(self, customer, bank, acnt, limit):\n",
    "        \"\"\"Create a new credit card instance.\n",
    "\n",
    "        The initial balance is zero.\n",
    "\n",
    "        customer  the name of the customer (e.g., 'John Bowman')\n",
    "        bank      the name of the bank (e.g., 'California Savings')\n",
    "        acnt      the acount identifier (e.g., '5391 0375 9387 5309')\n",
    "        limit     credit limit (measured in dollars)\n",
    "        \"\"\"\n",
    "        self._customer = customer\n",
    "        self._bank = bank\n",
    "        self._account = acnt\n",
    "        self._limit = limit\n",
    "        self._balance = 0\n",
    "\n",
    "    def get_customer(self):\n",
    "        \"\"\"Return name of the customer.\"\"\"\n",
    "        return self._customer\n",
    "\n",
    "    def get_bank(self):\n",
    "        \"\"\"Return the bank's name.\"\"\"\n",
    "        return self._bank\n",
    "\n",
    "    def get_account(self):\n",
    "        \"\"\"Return the card identifying number (typically stored as a string).\"\"\"\n",
    "        return self._account\n",
    "\n",
    "    def get_limit(self):\n",
    "        \"\"\"Return current credit limit.\"\"\"\n",
    "        return self._limit\n",
    "\n",
    "    def get_balance(self):\n",
    "        \"\"\"Return current balance.\"\"\"\n",
    "        return self._balance\n",
    "    \n",
    "    def _set_balance(self, amount, operator = '+'):\n",
    "        if operator in {'*', '+', '-', '/'} and isinstance(amount, (int, float)):\n",
    "            self._balance = eval(str(self._balance) + operator + str(amount))\n",
    "            \n",
    "        else:\n",
    "            raise ValueError('Wrong parameter types!')\n",
    "\n",
    "    def charge(self, price):\n",
    "        \"\"\"Charge given price to the card, assuming sufficient credit limit.\n",
    "\n",
    "        Return True if charge was processed; False if charge was denied.\n",
    "        \"\"\"\n",
    "        if price + self._balance > self._limit:  # if charge would exceed limit,\n",
    "            return False  # cannot accept charge\n",
    "        else:\n",
    "            self._set_balance(price)\n",
    "            return True\n",
    "\n",
    "    def make_payment(self, amount):\n",
    "        \"\"\"Process customer payment that reduces balance.\"\"\"\n",
    "        self._set_balance(-amount)\n",
    "\n",
    "\n",
    "if __name__ == '__main__':\n",
    "    wallet = []\n",
    "    wallet.append(CreditCard('John Bowman', 'California Savings',\n",
    "                             '5391 0375 9387 5309', 2500))\n",
    "    wallet.append(CreditCard('John Bowman', 'California Federal',\n",
    "                             '3485 0399 3395 1954', 3500))\n",
    "    wallet.append(CreditCard('John Bowman', 'California Finance',\n",
    "                             '5391 0375 9387 5309', 5000))\n",
    "\n",
    "    for val in range(1, 17):\n",
    "        wallet[0].charge(val)\n",
    "        wallet[1].charge(2 * val)\n",
    "        wallet[2].charge(3 * val)\n",
    "\n",
    "    for c in range(3):\n",
    "        print('Customer =', wallet[c].get_customer())\n",
    "        print('Bank =', wallet[c].get_bank())\n",
    "        print('Account =', wallet[c].get_account())\n",
    "        print('Limit =', wallet[c].get_limit())\n",
    "        print('Balance =', wallet[c].get_balance())\n",
    "        while wallet[c].get_balance() > 100:\n",
    "            wallet[c].make_payment(100)\n",
    "            print('New balance =', wallet[c].get_balance())\n",
    "        print()\n"
   ]
  },
  {
   "cell_type": "code",
   "execution_count": 74,
   "metadata": {},
   "outputs": [],
   "source": [
    "# %load files/predatory_credit_card.py\n",
    "class PredatoryCreditCard(CreditCard):\n",
    "    \"\"\"An extension to CreditCard that compounds interest and fees.\"\"\"\n",
    "\n",
    "    LATE_FEE = 100\n",
    "    \n",
    "    def __init__(self, customer, bank, acnt, limit, apr, charge_counter = 0, min_pay = 0.5):\n",
    "        \"\"\"Create a new predatory credit card instance.\n",
    "\n",
    "        The initial balance is zero.\n",
    "\n",
    "        customer  the name of the customer (e.g., 'John Bowman')\n",
    "        bank      the name of the bank (e.g., 'California Savings')\n",
    "        acnt      the acount identifier (e.g., '5391 0375 9387 5309')\n",
    "        limit     credit limit (measured in dollars)\n",
    "        apr       annual percentage rate (e.g., 0.0825 for 8.25% APR)\n",
    "        \"\"\"\n",
    "        super().__init__(customer, bank, acnt, limit)  # call super constructor\n",
    "        self._apr = apr\n",
    "        self._charge_counter = charge_counter\n",
    "        self._init_balance = self._balance\n",
    "        self._min_pay = min_pay\n",
    "\n",
    "    def charge(self, price):\n",
    "        \"\"\"Charge given price to the card, assuming sufficient credit limit.\n",
    "\n",
    "        Return True if charge was processed.\n",
    "        Return False and assess $5 fee if charge is denied.\n",
    "        \"\"\"\n",
    "        success = super().charge(price)  # call inherited method\n",
    "        if not success:\n",
    "            self._set_balance(5)  # assess penalty\n",
    "        else:\n",
    "            self._charge_counter += 1\n",
    "            if self._charge_counter > 10:\n",
    "                self._set_balance(1)\n",
    "        \n",
    "        return success  # caller expects return value\n",
    "\n",
    "    def process_month(self):\n",
    "        \"\"\"Assess monthly interest on outstanding balance.\"\"\"\n",
    "        if self._balance > 0:\n",
    "            # if positive balance, convert APR to monthly multiplicative factor\n",
    "            monthly_factor = pow(1 + self._apr, 1 / 12)\n",
    "            self._set_balance(monthly_factor,'*')\n",
    "            if (self._init_balance != 0) and (self._balance / self._init_balance > self._min_pay):\n",
    "                self._set_balance(self.LATE_FEE)\n",
    "            self._init_balance = self.get_balance()\n"
   ]
  },
  {
   "cell_type": "markdown",
   "metadata": {},
   "source": [
    "### C-2.28"
   ]
  },
  {
   "cell_type": "markdown",
   "metadata": {},
   "source": [
    "The `PredatoryCreditCard` class of Section 2.4.1 provides a `process_month`\n",
    "method that models the completion of a monthly cycle. Modify the class\n",
    "so that once a customer has made ten calls to charge in the current month,\n",
    "each additional call to that function results in an additional _$1_ surcharge."
   ]
  },
  {
   "cell_type": "code",
   "execution_count": 75,
   "metadata": {},
   "outputs": [
    {
     "name": "stdout",
     "output_type": "stream",
     "text": [
      "1\n",
      "2\n",
      "3\n",
      "4\n",
      "5\n",
      "6\n",
      "7\n",
      "8\n",
      "9\n",
      "10\n",
      "12\n",
      "14\n",
      "16\n",
      "18\n",
      "20\n",
      "22\n",
      "24\n",
      "26\n",
      "28\n",
      "30\n"
     ]
    }
   ],
   "source": [
    "a = PredatoryCreditCard('John Bowman', 'California Savings',\n",
    "                             '5391 0375 9387 5309', 2500, 0.0825)\n",
    "for i in range(20):\n",
    "    a.charge(1)\n",
    "    print(a.get_balance()) # starts going +2 after 10 charges"
   ]
  },
  {
   "cell_type": "markdown",
   "metadata": {},
   "source": [
    "### C-2.29"
   ]
  },
  {
   "cell_type": "markdown",
   "metadata": {},
   "source": [
    "Modify the `PredatoryCreditCard` class from Section 2.4.1 so that a customer is assigned a minimum monthly payment, as a percentage of the\n",
    "balance, and so that a late fee is assessed if the customer does not subsequently pay that minimum amount before the next monthly cycle."
   ]
  },
  {
   "cell_type": "code",
   "execution_count": 77,
   "metadata": {},
   "outputs": [
    {
     "name": "stdout",
     "output_type": "stream",
     "text": [
      "1006.627966804368\n",
      "606.627966804368\n",
      "710.6486768309487\n"
     ]
    }
   ],
   "source": [
    "a = PredatoryCreditCard('John Bowman', 'California Savings',\n",
    "                             '5391 0375 9387 5309', 2500, 0.0825) \n",
    "a.charge(1000)\n",
    "a.process_month() # first month; initial balance is 1000 now\n",
    "\n",
    "print(a.get_balance())\n",
    "\n",
    "a.make_payment(400) # now balance is 600\n",
    "\n",
    "print(a.get_balance())\n",
    "\n",
    "a.process_month() # second month; month end balance / initial balance > 50%, thus late fee is assessed ($100)\n",
    "\n",
    "print(a.get_balance())"
   ]
  },
  {
   "cell_type": "markdown",
   "metadata": {},
   "source": [
    "### C-2.30"
   ]
  },
  {
   "cell_type": "markdown",
   "metadata": {},
   "source": [
    "At the close of Section 2.4.1, we suggest a model in which the `CreditCard`\n",
    "class supports a nonpublic method, `_set_balance(b)`, that could be used\n",
    "by subclasses to affect a change to the balance, without directly accessing\n",
    "the `balance` data member. Implement such a model, revising both the\n",
    "`CreditCard` and `PredatoryCreditCard` classes accordingly."
   ]
  },
  {
   "cell_type": "markdown",
   "metadata": {},
   "source": [
    "[2.30 implementation](#another_cell)"
   ]
  },
  {
   "cell_type": "markdown",
   "metadata": {},
   "source": [
    "### C-2.31, 2.32"
   ]
  },
  {
   "cell_type": "code",
   "execution_count": 2,
   "metadata": {},
   "outputs": [],
   "source": [
    "# %load files/progressions.py\n",
    "\n",
    "class Progression:\n",
    "    \"\"\"Iterator producing a generic progression.\n",
    "\n",
    "    Default iterator produces the whole numbers 0, 1, 2, ...\n",
    "    \"\"\"\n",
    "\n",
    "    def __init__(self, start=0):\n",
    "        \"\"\"Initialize current to the first value of the progression.\"\"\"\n",
    "        self._current = start\n",
    "\n",
    "    def _advance(self):\n",
    "        \"\"\"Update self._current to a new value.\n",
    "\n",
    "        This should be overridden by a subclass to customize progression.\n",
    "\n",
    "        By convention, if current is set to None, this designates the\n",
    "        end of a finite progression.\n",
    "        \"\"\"\n",
    "        self._current += 1\n",
    "\n",
    "    def __next__(self):\n",
    "        \"\"\"Return the next element, or else raise StopIteration error.\"\"\"\n",
    "        if self._current is None:  # our convention to end a progression\n",
    "            raise StopIteration()\n",
    "        else:\n",
    "            answer = self._current  # record current value to return\n",
    "            self._advance()  # advance to prepare for next time\n",
    "            return answer  # return the answer\n",
    "\n",
    "    def __iter__(self):\n",
    "        \"\"\"By convention, an iterator must return itself as an iterator.\"\"\"\n",
    "        return self\n",
    "\n",
    "    def print_progression(self, n):\n",
    "        \"\"\"Print next n values of the progression.\"\"\"\n",
    "        print(' '.join(str(next(self)) for j in range(n)))\n",
    "\n",
    "\n",
    "class ArithmeticProgression(Progression):  # inherit from Progression\n",
    "    \"\"\"Iterator producing an arithmetic progression.\"\"\"\n",
    "\n",
    "    def __init__(self, increment=1, start=0):\n",
    "        \"\"\"Create a new arithmetic progression.\n",
    "\n",
    "        increment  the fixed constant to add to each term (default 1)\n",
    "        start      the first term of the progression (default 0)\n",
    "        \"\"\"\n",
    "        super().__init__(start)  # initialize base class\n",
    "        self._increment = increment\n",
    "\n",
    "    def _advance(self):  # override inherited version\n",
    "        \"\"\"Update current value by adding the fixed increment.\"\"\"\n",
    "        self._current += self._increment\n",
    "\n",
    "\n",
    "class GeometricProgression(Progression):  # inherit from Progression\n",
    "    \"\"\"Iterator producing a geometric progression.\"\"\"\n",
    "\n",
    "    def __init__(self, base=2, start=1):\n",
    "        \"\"\"Create a new geometric progression.\n",
    "\n",
    "        base       the fixed constant multiplied to each term (default 2)\n",
    "        start      the first term of the progression (default 1)\n",
    "        \"\"\"\n",
    "        super().__init__(start)\n",
    "        self._base = base\n",
    "\n",
    "    def _advance(self):  # override inherited version\n",
    "        \"\"\"Update current value by multiplying it by the base value.\"\"\"\n",
    "        self._current *= self._base\n",
    "\n",
    "\n",
    "class FibonacciProgression(Progression):\n",
    "    \"\"\"Iterator producing a generalized Fibonacci progression.\"\"\"\n",
    "\n",
    "    def __init__(self, first=0, second=1):\n",
    "        \"\"\"Create a new fibonacci progression.\n",
    "\n",
    "        first      the first term of the progression (default 0)\n",
    "        second     the second term of the progression (default 1)\n",
    "        \"\"\"\n",
    "        super().__init__(first)  # start progression at first\n",
    "        self._prev = second - first  # fictitious value preceding the first\n",
    "\n",
    "    def _advance(self):\n",
    "        \"\"\"Update current value by taking sum of previous two.\"\"\"\n",
    "        self._prev, self._current = self._current, self._prev + self._current\n",
    "        \n"
   ]
  },
  {
   "cell_type": "markdown",
   "metadata": {},
   "source": [
    "### C-2.31"
   ]
  },
  {
   "cell_type": "markdown",
   "metadata": {},
   "source": [
    "Write a Python class that extends the `Progression` class so that each value\n",
    "in the progression is the absolute value of the difference between the previous two values. You should include a constructor that accepts a pair of\n",
    "numbers as the first two values, using 2 and 200 as the defaults."
   ]
  },
  {
   "cell_type": "code",
   "execution_count": 16,
   "metadata": {},
   "outputs": [
    {
     "name": "stdout",
     "output_type": "stream",
     "text": [
      "Absolute Difference progression with start value 0 and 200\n",
      "2 200 198 2 196 194 2 192 190 2\n"
     ]
    }
   ],
   "source": [
    "class AbsoluteDifferenceProgression(Progression):\n",
    "    \"\"\"Iterator producing a progression where each value \n",
    "    is the absolute value of the difference between the previous two values.\"\"\"\n",
    "    \n",
    "    def __init__(self, first=2, second=200):\n",
    "        \"\"\"Create a new progression\n",
    "        \n",
    "        first      the first term of the progression (default 2)\n",
    "        second     the second term of the progression (default 200)\n",
    "        \"\"\"\n",
    "        super().__init__(first)  # start progression at first\n",
    "        self._prev = second + first\n",
    "        \n",
    "    def _advance(self):\n",
    "        \"\"\"Update current value by taking an absolute difference between previous two\"\"\"\n",
    "        self._prev, self._current = self._current, abs(self._prev - self._current)\n",
    "\n",
    "        \n",
    "print('Absolute Difference progression with start value 0 and 200')\n",
    "AbsoluteDifferenceProgression().print_progression(10)"
   ]
  },
  {
   "cell_type": "markdown",
   "metadata": {},
   "source": [
    "### C-2.32"
   ]
  },
  {
   "cell_type": "markdown",
   "metadata": {},
   "source": [
    "Write a Python class that extends the `Progression` class so that each value\n",
    "in the progression is the square root of the previous value. (Note that\n",
    "you can no longer represent each value with an integer.) Your constructor should accept an optional parameter specifying the start value, using\n",
    "65,536 as a default."
   ]
  },
  {
   "cell_type": "code",
   "execution_count": 5,
   "metadata": {},
   "outputs": [
    {
     "name": "stdout",
     "output_type": "stream",
     "text": [
      "Square root progression with start value 2**128\n",
      "3.402823669209385e+38 1.8446744073709552e+19 4294967296.0 65536.0 256.0 16.0 4.0 2.0 1.4142135623730951 1.189207115002721\n"
     ]
    }
   ],
   "source": [
    "class SquareRootProgression(Progression):\n",
    "    \"\"\"Iterator producing a progression where each value \n",
    "    is the square root of the previous value.\"\"\"\n",
    "    \n",
    "    def __init__(self, first=65536.0):\n",
    "        \"\"\"Create a new progression\n",
    "        \n",
    "        first      the first term of the progression (default 65536)\n",
    "        \"\"\"\n",
    "        super().__init__(first)  # start progression at first\n",
    "        \n",
    "    def _advance(self):\n",
    "        \"\"\"Update current value by taking an absolute difference between previous two\"\"\"\n",
    "        self._current = sqrt(self._current)\n",
    "\n",
    "        \n",
    "print('Square root progression with start value 2**128')\n",
    "SquareRootProgression(2.0**128).print_progression(10)"
   ]
  },
  {
   "cell_type": "markdown",
   "metadata": {},
   "source": [
    "## Projects"
   ]
  },
  {
   "cell_type": "markdown",
   "metadata": {},
   "source": [
    "### P-2.33"
   ]
  },
  {
   "cell_type": "markdown",
   "metadata": {},
   "source": [
    "Write a Python program that inputs a polynomial in standard algebraic\n",
    "notation and outputs the first derivative of that polynomial."
   ]
  },
  {
   "cell_type": "code",
   "execution_count": 5,
   "metadata": {},
   "outputs": [
    {
     "name": "stdout",
     "output_type": "stream",
     "text": [
      "10*x+2\n",
      "4*x**3+4*x+1\n",
      "2*x+5\n"
     ]
    }
   ],
   "source": [
    "def polynomial_derivative(p: str) -> str:\n",
    "    \"\"\"Output first derivative of a polynomial p in standard form (e.g. f(x) = x**2 + x + 1)\"\"\"\n",
    "    terms = re.split('[+,-]',p)\n",
    "    ops = [x for x in p if x in {'+','-'}]\n",
    "    coefs = []\n",
    "    for i in terms:\n",
    "        if ('x' in i):\n",
    "            coef = int(i[0:i.index('*')]) if 48<=ord(i[0])<=58 else 1\n",
    "            degr = int(i[i.index('**')+2:]) if 48<=ord(i[-1])<=58 else 1\n",
    "            if degr - 1 > 0:\n",
    "                coefs.append((str(coef * degr)+'*x**'+str(degr - 1)).replace('**1',''))\n",
    "            else:\n",
    "                coefs.append(str(coef * degr))\n",
    "    \n",
    "    output = ''\n",
    "    for i in range(len(terms) - 1):\n",
    "        output += coefs[i] + ops[i]\n",
    "        \n",
    "    print(output[:-1])\n",
    "    \n",
    "    \n",
    "polynomial_derivative('5*x**2+2*x-150')\n",
    "polynomial_derivative('x**4+2*x**2+x-150')\n",
    "polynomial_derivative('x**2+5*x-150')"
   ]
  },
  {
   "cell_type": "markdown",
   "metadata": {},
   "source": [
    "### P-2.34"
   ]
  },
  {
   "cell_type": "markdown",
   "metadata": {},
   "source": [
    "Write a Python program that inputs a document and then outputs a barchart plot of the frequencies of each alphabet character that appears in\n",
    "that document."
   ]
  },
  {
   "cell_type": "code",
   "execution_count": 20,
   "metadata": {},
   "outputs": [
    {
     "name": "stdout",
     "output_type": "stream",
     "text": [
      "t [*][*][*][*][*][*][*]\n",
      "s [*][*][*][*][*][*]\n",
      "e [*][*][*][*][*]\n",
      "i [*][*][*][*]\n",
      "o [*][*][*]\n",
      "h [*][*][*]\n",
      "w [*][*]\n",
      "u [*][*]\n",
      "r [*][*]\n",
      "n [*][*]\n",
      "y [*]\n",
      "l [*]\n",
      "k [*]\n",
      "f [*]\n"
     ]
    }
   ],
   "source": [
    "def process_doc(doc:str):\n",
    "    file = open(doc)\n",
    "    alph = {chr(a):0 for a in range(97,124)}\n",
    "    for line in file:\n",
    "        for i in line.lower():\n",
    "            if i in alph:\n",
    "                alph[i] += 1\n",
    "    \n",
    "    for k, v in sorted(list((y, x) for x, y in alph.items() if y != 0), reverse=True):\n",
    "        print(v, '[*]'*k)\n",
    "\n",
    "        \n",
    "process_doc('Files/test.txt')"
   ]
  },
  {
   "cell_type": "markdown",
   "metadata": {},
   "source": [
    "### P-2.34"
   ]
  },
  {
   "cell_type": "markdown",
   "metadata": {},
   "source": [
    "Write a set of Python classes that can simulate an Internet application in\n",
    "which one party, Alice, is periodically creating a set of packets that she\n",
    "wants to send to Bob. An Internet process is continually checking if Alice\n",
    "has any packets to send, and if so, it delivers them to Bob’s computer, and\n",
    "Bob is periodically checking if his computer has a packet from Alice, and,\n",
    "if so, he reads and deletes it."
   ]
  },
  {
   "cell_type": "code",
   "execution_count": 82,
   "metadata": {},
   "outputs": [],
   "source": [
    "class Party:\n",
    "    \"\"\"Class represents a party in the Internet app\n",
    "    \"\"\"\n",
    "    \n",
    "    def __init__(self, name):\n",
    "        \"\"\"Initialize an instance with name and an empty set of packets\n",
    "        \"\"\"\n",
    "        self._name = name\n",
    "        self._packets = []\n",
    "        \n",
    "    def _set_packets(self, packets):\n",
    "        \"\"\"Protected method for providing a list of packets\n",
    "        \"\"\"\n",
    "        self._packets = packets\n",
    "        \n",
    "    def _get_packets(self, sender = None, receiver = None):\n",
    "        \"\"\"Protected method for getting a list of packets for a party\n",
    "        \"\"\"\n",
    "        if not sender:\n",
    "            sender = self.get_name()\n",
    "        return [x for x in self._packets if x._get_sender() == sender and x._get_receiver() == receiver]\n",
    "    \n",
    "    def get_name(self):\n",
    "        \"\"\"Protected method for getting an instance name\n",
    "        \"\"\"\n",
    "        return self._name\n",
    "    \n",
    "    def generate_packets(self, n, receiver):\n",
    "        \"\"\"Method for generating a list of packets\n",
    "        \"\"\"\n",
    "        \n",
    "        packets = [Packet(self.get_name(), receiver, 'test packet #{num}'.format(num = x)) for x in range(n)]\n",
    "        self._set_packets(packets)\n",
    "        \n",
    "    def read_packets(self, sender, receiver):\n",
    "        \"\"\"Read packet contains and remove it\n",
    "        \"\"\"\n",
    "        packets = self._get_packets(sender, receiver)\n",
    "        for i in range(len(packets)):\n",
    "            print(packets.pop(0)._get_contents())\n",
    "        self._set_packets(packets)\n"
   ]
  },
  {
   "cell_type": "code",
   "execution_count": 83,
   "metadata": {},
   "outputs": [],
   "source": [
    "class Packet:\n",
    "    \"\"\"Class that represents a packet entity\n",
    "    \"\"\"\n",
    "    \n",
    "    def __init__(self, sender, receiver, content=''):\n",
    "        \"\"\"Initialize an instance with user name and an empty content\n",
    "        \"\"\"\n",
    "        self._receiver = receiver\n",
    "        self._sender = sender           \n",
    "        self._content = content\n",
    "    \n",
    "    def _get_sender(self):\n",
    "        \"\"\"Get party_from field\n",
    "        \"\"\"\n",
    "        return self._sender\n",
    "    \n",
    "    def _get_receiver(self):\n",
    "        \"\"\"Get party_to field\n",
    "        \"\"\"\n",
    "        return self._receiver\n",
    "    \n",
    "    def _get_contents(self):\n",
    "        \"\"\"Get packet content field\n",
    "        \"\"\"\n",
    "        return self._content\n",
    "    \n",
    "        "
   ]
  },
  {
   "cell_type": "code",
   "execution_count": 98,
   "metadata": {},
   "outputs": [],
   "source": [
    "class InternetApp:\n",
    "    \"\"\"Class for processing internet operations\n",
    "    \"\"\"\n",
    "    SESSION_STATUS = {'ACTIVE', 'INACTIVE'}\n",
    "    \n",
    "    def __init__(self, session_id, session_status):\n",
    "        \"\"\"Initializing InternetApp instance with session_id and session_status\n",
    "        \"\"\"\n",
    "        self._session_id = session_id\n",
    "        self._session_status = session_status\n",
    "        \n",
    "    def get_session_status(self):\n",
    "        \"\"\"Get session status\n",
    "        \"\"\"\n",
    "        return self._session_status\n",
    "        \n",
    "    def set_session_status(self, status):\n",
    "        \"\"\"Set session status\n",
    "        \"\"\"\n",
    "        if status not in InternetApp.SESSION_STATUS:\n",
    "            raise TypeError('session must be ACTIVE or INACTIVE only')\n",
    "        else:\n",
    "            self._session_status = status\n",
    "            \n",
    "    def _check_session(self):\n",
    "        if self._session_status == 'ACTIVE':\n",
    "            return True\n",
    "        else:\n",
    "            print('No active session')\n",
    "            return False\n",
    "        \n",
    "    def check_packets(self, party_a, party_b):\n",
    "        \"\"\"Check if an instance contains packets\n",
    "        \"\"\"\n",
    "        if self._check_session():\n",
    "            if isinstance(party_a, Party) and isinstance(party_b, Party):\n",
    "                return True if party_a._get_packets(party_a.get_name(), party_b.get_name()) else False\n",
    "            else:\n",
    "                raise TypeError('party_a and party_b parameters must belong to a Party class')\n",
    "        \n",
    "    \n",
    "    def receive_packets(self, party_a, party_b):\n",
    "        \"\"\"Receieve a list of packets\n",
    "        \"\"\"\n",
    "        if self._check_session():\n",
    "            if isinstance(party_a, Party) and isinstance(party_b, Party):\n",
    "                party_a._set_packets(party_b._get_packets(party_b.get_name(), party_a.get_name()))\n",
    "            else:\n",
    "                raise TypeError('party_a and party_b parameters must belong to a Party class')\n",
    "    "
   ]
  },
  {
   "cell_type": "code",
   "execution_count": 99,
   "metadata": {},
   "outputs": [
    {
     "name": "stdout",
     "output_type": "stream",
     "text": [
      "\n",
      "--SESSION START--\n",
      "\n",
      "\n",
      "--Generating packets for Alice--\n",
      "\n",
      "Packet contents Alice: text:test packet #0, sender:Alice, receiver: Bob\n",
      "Packet contents Alice: text:test packet #1, sender:Alice, receiver: Bob\n",
      "Packet contents Alice: text:test packet #2, sender:Alice, receiver: Bob\n",
      "\n",
      "--Checking and delivering packets to Bob--\n",
      "\n",
      "Packet contents Bob: text:test packet #0, sender:Alice, receiver: Bob\n",
      "Packet contents Bob: text:test packet #1, sender:Alice, receiver: Bob\n",
      "Packet contents Bob: text:test packet #2, sender:Alice, receiver: Bob\n",
      "\n",
      "--Check Bob for packets before reading: True\n",
      "\n",
      "--Reading packets:\n",
      "\n",
      "test packet #0\n",
      "test packet #1\n",
      "test packet #2\n",
      "\n",
      "--Check Bob for packets after reading: False\n",
      "\n",
      "\n",
      "--Generating packets for Alice--\n",
      "\n",
      "Packet contents Alice: text:test packet #0, sender:Alice, receiver: Bob\n",
      "Packet contents Alice: text:test packet #1, sender:Alice, receiver: Bob\n",
      "Packet contents Alice: text:test packet #2, sender:Alice, receiver: Bob\n",
      "Packet contents Alice: text:test packet #3, sender:Alice, receiver: Bob\n",
      "\n",
      "--Checking and delivering packets to Bob--\n",
      "\n",
      "Packet contents Bob: text:test packet #0, sender:Alice, receiver: Bob\n",
      "Packet contents Bob: text:test packet #1, sender:Alice, receiver: Bob\n",
      "Packet contents Bob: text:test packet #2, sender:Alice, receiver: Bob\n",
      "Packet contents Bob: text:test packet #3, sender:Alice, receiver: Bob\n",
      "\n",
      "--Check Bob for packets before reading: True\n",
      "\n",
      "--Reading packets:\n",
      "\n",
      "test packet #0\n",
      "test packet #1\n",
      "test packet #2\n",
      "test packet #3\n",
      "\n",
      "--Check Bob for packets after reading: False\n",
      "\n",
      "\n",
      "--Generating packets for Alice--\n",
      "\n",
      "Packet contents Alice: text:test packet #0, sender:Alice, receiver: Bob\n",
      "Packet contents Alice: text:test packet #1, sender:Alice, receiver: Bob\n",
      "Packet contents Alice: text:test packet #2, sender:Alice, receiver: Bob\n",
      "Packet contents Alice: text:test packet #3, sender:Alice, receiver: Bob\n",
      "Packet contents Alice: text:test packet #4, sender:Alice, receiver: Bob\n",
      "\n",
      "--Checking and delivering packets to Bob--\n",
      "\n",
      "Packet contents Bob: text:test packet #0, sender:Alice, receiver: Bob\n",
      "Packet contents Bob: text:test packet #1, sender:Alice, receiver: Bob\n",
      "Packet contents Bob: text:test packet #2, sender:Alice, receiver: Bob\n",
      "Packet contents Bob: text:test packet #3, sender:Alice, receiver: Bob\n",
      "Packet contents Bob: text:test packet #4, sender:Alice, receiver: Bob\n",
      "\n",
      "--Check Bob for packets before reading: True\n",
      "\n",
      "--Reading packets:\n",
      "\n",
      "test packet #0\n",
      "test packet #1\n",
      "test packet #2\n",
      "test packet #3\n",
      "test packet #4\n",
      "\n",
      "--Check Bob for packets after reading: False\n",
      "\n",
      "\n",
      "--Generating packets for Alice--\n",
      "\n",
      "Packet contents Alice: text:test packet #0, sender:Alice, receiver: Bob\n",
      "\n",
      "--Checking and delivering packets to Bob--\n",
      "\n",
      "Packet contents Bob: text:test packet #0, sender:Alice, receiver: Bob\n",
      "\n",
      "--Check Bob for packets before reading: True\n",
      "\n",
      "--Reading packets:\n",
      "\n",
      "test packet #0\n",
      "\n",
      "--Check Bob for packets after reading: False\n",
      "\n",
      "\n",
      "--SESSION END--\n",
      "\n"
     ]
    }
   ],
   "source": [
    "party_a = Party('Alice')\n",
    "party_b = Party('Bob')\n",
    "\n",
    "app = InternetApp(random.randint(1, 100), 'INACTIVE')\n",
    "app.set_session_status('ACTIVE')\n",
    "print('\\n--SESSION START--\\n')\n",
    "\n",
    "while app.get_session_status() == 'ACTIVE':\n",
    "    print('\\n--Generating packets for {0}--\\n'.format(party_a.get_name()))\n",
    "    party_a.generate_packets(random.randint(1, 5), party_b.get_name())\n",
    "    \n",
    "    for i in party_a._get_packets(party_a.get_name(), party_b.get_name()):\n",
    "            print('Packet contents {0}: text:{1}, sender:{2}, receiver: {3}'.\n",
    "                  format(party_a.get_name(),i._get_contents(), i._get_sender(), i._get_receiver()))\n",
    "\n",
    "    print('\\n--Checking and delivering packets to {0}--\\n'.format(party_b.get_name()))\n",
    "\n",
    "    if app.check_packets(party_a, party_b):\n",
    "        app.receive_packets(party_b, party_a)\n",
    "\n",
    "    for i in party_b._get_packets(party_a.get_name(), party_b.get_name()):\n",
    "        print('Packet contents {0}: text:{1}, sender:{2}, receiver: {3}'.\n",
    "              format(party_b.get_name() ,i._get_contents(), i._get_sender(), i._get_receiver()))\n",
    "\n",
    "    print('\\n--Check {0} for packets before reading: {1}\\n'.\n",
    "          format(party_b.get_name(), bool(party_b._get_packets(party_a.get_name(), party_b.get_name()))))\n",
    "\n",
    "    print('--Reading packets:\\n')\n",
    "    party_b.read_packets(party_a.get_name(), party_b.get_name())\n",
    "\n",
    "    print('\\n--Check {0} for packets after reading: {1}\\n'.\n",
    "          format(party_b.get_name(), bool(party_b._get_packets(party_a.get_name(), party_b.get_name()))))\n",
    "            \n",
    "    \n",
    "    if random.randint(1, 10) == 2:\n",
    "        print('\\n--SESSION END--\\n')\n",
    "        app.set_session_status('INACTIVE')\n",
    "    "
   ]
  },
  {
   "cell_type": "markdown",
   "metadata": {},
   "source": [
    "### P-2.36 & 2.37"
   ]
  },
  {
   "cell_type": "markdown",
   "metadata": {},
   "source": [
    "Write a Python program to simulate an ecosystem containing two types\n",
    "of creatures, ___bears___ and ___fish___. The ecosystem consists of a river, which is\n",
    "modeled as a relatively large list. Each element of the list should be a\n",
    "Bear object, a Fish object, or None. In each time step, based on a random\n",
    "process, each animal either attempts to move into an adjacent list location\n",
    "or stay where it is. If two animals of the same type are about to collide in\n",
    "the same cell, then they stay where they are, but they create a new instance\n",
    "of that type of animal, which is placed in a random empty (i.e., previously\n",
    "None) location in the list. If a bear and a fish collide, however, then the\n",
    "fish dies (i.e., it disappears)."
   ]
  },
  {
   "cell_type": "markdown",
   "metadata": {},
   "source": [
    "Write a simulator, as in the previous project, but add a Boolean gender\n",
    "field and a floating-point strength field to each animal, using an Animal\n",
    "class as a base class. If two animals of the same type try to collide, then\n",
    "they only create a new instance of that type of animal if they are of different genders. Otherwise, if two animals of the same type and gender try to\n",
    "collide, then only the one of larger strength survives."
   ]
  },
  {
   "cell_type": "code",
   "execution_count": 53,
   "metadata": {},
   "outputs": [],
   "source": [
    "from abc import ABCMeta, abstractmethod\n",
    "\n",
    "class Animal(metaclass=ABCMeta):\n",
    "    \"\"\"Animal base class\n",
    "    \"\"\"\n",
    "    \n",
    "    def __init__(self, strength = random.random(), gender = random.choice(['True', 'False'])):\n",
    "        \"\"\"Initialize an animal object\n",
    "        \"\"\"\n",
    "        self._strength = strength\n",
    "        self._gender = gender\n",
    "    \n",
    "    def get_gender(self):\n",
    "        return self._gender\n",
    "    \n",
    "    def get_strength(self):\n",
    "        return self._strength\n",
    "    \n",
    "class Bear(Animal):\n",
    "    \"\"\"Bear subclass of Animal\n",
    "    \"\"\"\n",
    "    \n",
    "    def __init__(self, strength = None, gender = None):\n",
    "        super().__init__(strength, gender)\n",
    "    \n",
    "class Fish(Animal):\n",
    "    \"\"\"Fish subclass of Anymal\n",
    "    \"\"\"\n",
    "    \n",
    "    def __init__(self, strength = None, gender = None):\n",
    "        super().__init__(strength, gender)\n",
    "        \n",
    "        \n",
    "class Ecosystem:\n",
    "    \"\"\"Class representing an ecosystem\n",
    "    \"\"\"\n",
    "    \n",
    "    def __init__(self, low, high):\n",
    "        \"\"\"Define a river list\n",
    "        \"\"\"\n",
    "        self._river = self._generate_river(low, high)\n",
    "    \n",
    "    def _generate_river(self, low, high):\n",
    "        \"\"\"Generate a river with random number of objcets\n",
    "        \"\"\"\n",
    "        return [random.choice([Bear(), Fish(), None]) for x in range(random.randint(low, high))]\n",
    "    \n",
    "    def get_river(self):\n",
    "        \"\"\"Getter method for river\n",
    "        \"\"\"\n",
    "        return self._river\n",
    "    \n",
    "    def set_river(self, river):\n",
    "        \"\"\"Setter method for river\n",
    "        \"\"\"\n",
    "        self._river = river\n",
    "    \n",
    "    def move(self):\n",
    "        \"\"\"Perform a move for every object in the river\n",
    "        \"\"\"\n",
    "        river = self.get_river()\n",
    "        empty = [x for x in range(len(river)) if river[x] is None]\n",
    "        for i in range(len(river)):\n",
    "            move_cell = random.choice([i - 1, i, i + 1])\n",
    "            if (0 <= move_cell < len(river)) and isinstance(river[i], Animal):\n",
    "                if empty:\n",
    "                    next_cell = random.choice(empty)\n",
    "                else:\n",
    "                    next_cell = None\n",
    "                animal_next, next_cell = self.collide(river[i], river[move_cell], next_cell)\n",
    "                if next_cell != -1 and next_cell:\n",
    "                    river[next_cell] = animal_next\n",
    "                    empty.remove(i)\n",
    "                elif animal_next and next_cell == -1:\n",
    "                    river[move_cell], river[i] = animal_next, None\n",
    "                    empty.append(i)\n",
    "        self.set_river(river)\n",
    "            \n",
    "    \n",
    "    def collide(self, animal_a, animal_b, new_cell):\n",
    "        \"\"\"Process object collision event\n",
    "        \"\"\"\n",
    "        if not isinstance(animal_b, Animal):\n",
    "            return (animal_a, -1)\n",
    "        if type(animal_a) != type(animal_b):\n",
    "            return (animal_a, -1) if isinstance(animal_a, Bear) else (animal_b, -1)\n",
    "        if animal_a.get_gender() != animal_b.get_gender():\n",
    "            return (Bear(), new_cell) if isinstance(animal_a, Bear) else (Fish(), new_cell)\n",
    "        if animal_a.get_strength() == animal_b.get_strength():\n",
    "            return (None, None)\n",
    "        if animal_a.get_strength() > animal_b.get_strength():\n",
    "            return (animal_a, -1)\n",
    "        else:\n",
    "            return (animal_b, -1)\n",
    "        \n",
    "    def __str__(self):\n",
    "        return ','.join('Bear' if isinstance(x, Bear) else \n",
    "                            ('Fish' if isinstance(x, Fish) else '----') for x in self.get_river())\n",
    "    "
   ]
  },
  {
   "cell_type": "code",
   "execution_count": 56,
   "metadata": {},
   "outputs": [
    {
     "name": "stdout",
     "output_type": "stream",
     "text": [
      "Fish,Fish,Bear,----,Fish,Bear,----,Fish,Bear,----,Fish,----,Fish,Bear,Fish,----,----,Fish,Bear,Bear,Fish,Bear\n",
      "****step: 0****\n",
      "Fish,Fish,Bear,----,----,Bear,Fish,----,Bear,Fish,----,----,Bear,----,Fish,----,----,Bear,Bear,Fish,Bear,----\n",
      "****step: 1****\n",
      "Fish,----,Bear,----,Bear,Fish,----,----,Bear,----,Fish,----,Bear,----,----,Fish,----,Bear,----,Bear,Bear,----\n",
      "****step: 2****\n",
      "----,Bear,----,Bear,----,----,Fish,Bear,----,----,----,Bear,----,----,Fish,----,----,Bear,----,Bear,Bear,----\n",
      "****step: 3****\n",
      "----,Bear,----,Bear,----,Fish,Bear,----,----,----,Bear,----,----,----,----,Fish,----,----,Bear,Bear,Bear,----\n",
      "****step: 4****\n",
      "----,Bear,----,----,----,Bear,Bear,----,----,Bear,----,----,----,----,----,----,Fish,----,Bear,Bear,Bear,----\n",
      "****step: 5****\n",
      "----,Bear,----,----,----,Bear,Bear,----,----,Bear,----,----,----,----,----,----,Fish,Bear,----,Bear,Bear,----\n",
      "****step: 6****\n",
      "----,Bear,----,----,----,Bear,Bear,----,----,Bear,----,----,----,----,----,----,Fish,Bear,----,Bear,Bear,----\n",
      "****step: 7****\n",
      "----,Bear,----,----,----,Bear,----,----,Bear,Bear,----,----,----,----,----,Fish,Bear,----,----,Bear,Bear,----\n",
      "****step: 8****\n",
      "Bear,----,----,----,----,Bear,----,----,Bear,Bear,----,----,----,----,Fish,Bear,----,----,Bear,Bear,----,----\n",
      "****step: 9****\n",
      "Bear,----,----,----,Bear,----,----,----,Bear,Bear,----,----,----,Fish,----,Bear,----,----,Bear,Bear,----,----\n"
     ]
    }
   ],
   "source": [
    "eco = Ecosystem(20, 25)\n",
    "\n",
    "print(str(eco))\n",
    "\n",
    "for i in range(10):\n",
    "    eco.move()\n",
    "    print('****step: {0}****'.format(i))\n",
    "    print(str(eco))\n",
    "    time.sleep(2)"
   ]
  },
  {
   "cell_type": "markdown",
   "metadata": {},
   "source": [
    "### P-2.38"
   ]
  },
  {
   "cell_type": "markdown",
   "metadata": {},
   "source": [
    "Write a Python program that simulates a system that supports the functions of an e-book reader. You should include methods for users of your\n",
    "system to “buy” new books, view their list of purchased books, and read\n",
    "their purchased books. Your system should use actual books, which have\n",
    "expired copyrights and are available on the Internet, to populate your set\n",
    "of available books for users of your system to “purchase” and read."
   ]
  },
  {
   "cell_type": "code",
   "execution_count": 2,
   "metadata": {},
   "outputs": [],
   "source": [
    "from abc import abstractmethod\n",
    "from os import walk\n",
    "import textwrap\n",
    "\n",
    "\n",
    "class Content:\n",
    "    \"\"\"Superclass for types of content available\n",
    "    \"\"\"\n",
    "    \n",
    "    COVER = {'HARD', 'SOFT'}\n",
    "    \n",
    "    def __init__(self, cover, date_of_issue, content):\n",
    "        \"\"\"Initialize an instance of content\n",
    "        \"\"\"\n",
    "        if cover not in Content.COVER:\n",
    "            raise ValueError('Cover can be: {0}'.format(str(Content.COVER)))\n",
    "        self._cover = cover\n",
    "        self._date_of_issue = date_of_issue\n",
    "        self._content = textwrap.wrap(content)\n",
    "    \n",
    "    @abstractmethod\n",
    "    def read(self):\n",
    "        pass\n",
    "        \n",
    "    \n",
    "\n",
    "class Book(Content):\n",
    "    \"\"\"Class representing a book, a subclass of Content\n",
    "    \"\"\"\n",
    "    \n",
    "    def __init__(self, cover, date_of_issue, title, isbn, genre, content):\n",
    "        \"\"\"Initialize a book\n",
    "        \"\"\"\n",
    "        super().__init__(cover, date_of_issue, content)\n",
    "        self._title = title\n",
    "        self._isbn = isbn\n",
    "        self._genre = genre\n",
    "    \n",
    "    def read(self, page, lines):\n",
    "        \"\"\"Function that returns books contents line by line\n",
    "        \n",
    "        page             page number\n",
    "        lines            lines per page\n",
    "        \"\"\"\n",
    "        return (line for line in self._content[page * lines: page * lines + lines])\n",
    "\n",
    "    \n",
    "class Library:\n",
    "    \"\"\"Class representing a book store\n",
    "    \"\"\"\n",
    "    \n",
    "    def __init__(self, url):\n",
    "        \"\"\"Initialize a store with a url with content\n",
    "        \"\"\"\n",
    "        self._url = url\n",
    "        \n",
    "    def browse_library(self):\n",
    "        \"\"\"Function that returns store contents\n",
    "        \"\"\"\n",
    "        return next(walk(self._url))[2]\n",
    "    \n",
    "    def purchase(self, user, title):\n",
    "        \"\"\"Function that creates a book and stores it for user\n",
    "        \"\"\"\n",
    "        with open(self._url + '//' + title, encoding='utf-8') as f:\n",
    "            user.add_to_library(title, Book('HARD', None, None, None, None, f.read()))\n",
    "\n",
    "class User:\n",
    "    \"\"\"Class representing a user\n",
    "    \"\"\"\n",
    "    \n",
    "    def __init__(self, name):\n",
    "        \"\"\"Initiate a user and his library\n",
    "        \"\"\"\n",
    "        self._name = name\n",
    "        self._library = {}\n",
    "        \n",
    "    def add_to_library(self, title, content):\n",
    "        \"\"\"Add new entry to user library\n",
    "        \"\"\"\n",
    "        self._library[title] = content\n",
    "        \n",
    "    def view_library(self):\n",
    "        \"\"\"Return users library\n",
    "        \"\"\"\n",
    "        return [x for x in self._library.keys()]\n",
    "    \n",
    "    def get_book(self, title):\n",
    "        \"\"\"Get a particular book from library\n",
    "        \"\"\"\n",
    "        return self._library[title]"
   ]
  },
  {
   "cell_type": "code",
   "execution_count": 6,
   "metadata": {},
   "outputs": [
    {
     "name": "stdout",
     "output_type": "stream",
     "text": [
      "--List of available book titles:--\n",
      "BlackHistory.txt\n",
      "HempHurds.txt\n",
      "MobyDick.txt\n",
      "--User picks a book for purchase: MobyDick--\n",
      "--User decideds to view its library:--\n",
      "MobyDick.txt\n",
      "--User reads first 10 lines of its book:--\n",
      "what not. And as for going as cook,—though I confess there is\n",
      "considerable glory in that, a cook being a sort of officer on ship-\n",
      "board—yet, somehow, I never fancied broiling fowls;—though once\n",
      "broiled, judiciously buttered, and judgmatically salted and peppered,\n",
      "there is no one who will speak more respectfully, not to say\n",
      "reverentially, of a broiled fowl than I will. It is out of the\n",
      "idolatrous dotings of the old Egyptians upon broiled ibis and roasted\n",
      "river horse, that you see the mummies of those creatures in their huge\n",
      "bake-houses the pyramids.  No, when I go to sea, I go as a simple\n",
      "sailor, right before the mast, plumb down into the forecastle, aloft\n",
      "there to the royal mast-head. True, they rather order me about some,\n",
      "and make me jump from spar to spar, like a grasshopper in a May\n",
      "meadow. And at first, this sort of thing is unpleasant enough. It\n",
      "touches one’s sense of honor, particularly if you come of an old\n",
      "established family in the land, the Van Rensselaers, or Randolphs, or\n",
      "Hardicanutes. And more than all, if just previous to putting your hand\n",
      "into the tar-pot, you have been lording it as a country schoolmaster,\n",
      "making the tallest boys stand in awe of you. The transition is a keen\n",
      "one, I assure you, from a schoolmaster to a sailor, and requires a\n",
      "strong decoction of Seneca and the Stoics to enable you to grin and\n",
      "bear it. But even this wears off in time.  What of it, if some old\n",
      "hunks of a sea-captain orders me to get a broom and sweep down the\n",
      "decks? What does that indignity amount to, weighed, I mean, in the\n",
      "scales of the New Testament? Do you think the archangel Gabriel thinks\n",
      "anything the less of me, because I promptly and respectfully obey that\n",
      "old hunks in that particular instance? Who ain’t a slave? Tell me\n",
      "that. Well, then, however the old sea-captains may order me\n",
      "about—however they may thump and punch me about, I have the\n",
      "satisfaction of knowing that it is all right; that everybody else is\n",
      "one way or other served in much the same way—either in a physical or\n",
      "metaphysical point of view, that is; and so the universal thump is\n",
      "passed round, and all hands should rub each other’s shoulder-blades,\n",
      "and be content.  Again, I always go to sea as a sailor, because they\n",
      "make a point of paying me for my trouble, whereas they never pay\n",
      "passengers a single penny that I ever heard of. On the contrary,\n",
      "passengers themselves must pay. And there is all the difference in the\n",
      "world between paying and being paid. The act of paying is perhaps the\n",
      "most uncomfortable infliction that the two orchard thieves entailed\n",
      "upon us. But _being paid_,—what will compare with it? The urbane\n",
      "activity with which a man receives money is really marvellous,\n",
      "considering that we so earnestly believe money to be the root of all\n",
      "earthly ills, and that on no account can a monied man enter heaven.\n",
      "Ah! how cheerfully we consign ourselves to perdition!  Finally, I\n",
      "always go to sea as a sailor, because of the wholesome exercise and\n",
      "pure air of the fore-castle deck. For as in this world, head winds are\n",
      "far more prevalent than winds from astern (that is, if you never\n",
      "violate the Pythagorean maxim), so for the most part the Commodore on\n",
      "the quarter-deck gets his atmosphere at second hand from the sailors\n",
      "on the forecastle. He thinks he breathes it first; but not so. In much\n",
      "the same way do the commonalty lead their leaders in many other\n"
     ]
    }
   ],
   "source": [
    "alice = User('Alice')\n",
    "\n",
    "library = Library('Files/Books')\n",
    "\n",
    "print('--List of available book titles:--')\n",
    "for title in library.browse_library():\n",
    "    print(title)\n",
    "    \n",
    "print('--User picks a book for purchase: MobyDick--')\n",
    "library.purchase(alice, 'MobyDick.txt')\n",
    "\n",
    "print('--User decideds to view its library:--')\n",
    "for title in alice.view_library():\n",
    "    print(title)\n",
    "    \n",
    "print('--User reads first 10th page of its book (with 50 lines each):--')\n",
    "for line in alice.get_book('MobyDick.txt').read(10, 50):\n",
    "    print(line)"
   ]
  },
  {
   "cell_type": "markdown",
   "metadata": {},
   "source": [
    "### P-2.39"
   ]
  },
  {
   "cell_type": "markdown",
   "metadata": {},
   "source": [
    "Develop an inheritance hierarchy based upon a Polygon class that has\n",
    "abstract methods area() and perimeter(). Implement classes Triangle,\n",
    "Quadrilateral, Pentagon, Hexagon, and Octagon that extend this base\n",
    "class, with the obvious meanings for the area() and perimeter() methods.\n",
    "Also implement classes, IsoscelesTriangle, EquilateralTriangle, Rectangle, and Square, that have the appropriate inheritance relationships. Finally, write a simple program that allows users to create polygons of the\n",
    "various types and input their geometric dimensions, and the program then\n",
    "outputs their area and perimeter. For extra effort, allow users to input\n",
    "polygons by specifying their vertex coordinates and be able to test if two\n",
    "such polygons are similar."
   ]
  },
  {
   "cell_type": "code",
   "execution_count": 53,
   "metadata": {},
   "outputs": [],
   "source": [
    "class Polygon():\n",
    "    \"\"\"Abstract superclass for various types of polygons\n",
    "    \"\"\"\n",
    "    \n",
    "    def __init__(self, sides = [], coords = []):\n",
    "        \"\"\"Initiate an instance with geometric dimensions\n",
    "        \"\"\"\n",
    "        self._sides = sides\n",
    "        self._coords = coords\n",
    "    \n",
    "    @abstractmethod\n",
    "    def area(self):\n",
    "        \"\"\"Abstract method for area definition\n",
    "        \"\"\"\n",
    "        pass\n",
    "    \n",
    "    def perimeter(self):\n",
    "        \"\"\"Method for perimeter definition\n",
    "        \"\"\"\n",
    "        return sum(x for x in self._sides)\n",
    "    \n",
    "    def area_coords(self):\n",
    "        \"\"\"Get an area from given coordinates in the form list of tuples\n",
    "        \"\"\"\n",
    "        this_coords = self._coords[:]\n",
    "        this_coords.append(this_coords[0])\n",
    "        return abs(sum(this_coords[x - 1][0] * this_coords[x][1] - \\\n",
    "                            this_coords[x][0] * this_coords[x - 1][1] for x in range(len(this_coords))) / 2)\n",
    "    \n",
    "    def is_similar(self, poly_b):\n",
    "        \"\"\"Determine if two polygons are similar\n",
    "        \"\"\"\n",
    "        if not isinstance(poly_b, Polygon):\n",
    "            print('both parameters need to be Polygon\\'s!')\n",
    "        if ((self.area() % poly_b.area() == 0) or \\\n",
    "        (poly_b.area() % self.area() == 0)) and \\\n",
    "        ((self.perimeter() % poly_b.perimeter() == 0) or \\\n",
    "        (poly_b.perimeter() % self.perimeter() == 0)):\n",
    "            return True\n",
    "        return False\n",
    "            \n",
    "        \n",
    "        \n",
    "class Triangle(Polygon):\n",
    "    \n",
    "    SIDES = 3\n",
    "    \n",
    "    def __init__(self, sides):\n",
    "        if len(sides) != Triangle.SIDES:\n",
    "            raise ValueError('expected {0} sides for a triangle, given {1}'.format(Triangle.SIDES, len(sides)))\n",
    "        super().__init__(sides)\n",
    "    \n",
    "    def area(self):\n",
    "        p = self.perimeter() / 2\n",
    "        return (p * (p - self._sides[0]) * (p - self._sides[1]) * (p - self._sides[2])) ** 0.5\n",
    "    \n",
    "\n",
    "class Quadrilateral(Polygon):\n",
    "    \n",
    "    SIDES = 4\n",
    "    \n",
    "    def __init__(self, sides, diagonal = 0):\n",
    "        if len(sides) != Quadrilateral.SIDES:\n",
    "            raise ValueError('expected {0} sides for a quadrilateral, given {1}'.format(Quadrilateral.SIDES, len(sides)))\n",
    "        super().__init__(sides)\n",
    "        self._diagonal = diagonal\n",
    "    \n",
    "    def area(self):\n",
    "        p = self.perimeter() / 2\n",
    "        return (sum(self._sides[0] + self._sides[1] + self._diagonal) * \\\n",
    "                    (p - self._sides[0]) * (p - self._sides[1]) * (p - self._diagonal)) + \\\n",
    "            (sum(self._sides[2] + self._sides[3] + self._diagonal) * \\\n",
    "                 (p - self._sides[2]) * (p - self._sides[3]) * (p - self._diagonal))\n",
    "    \n",
    "\n",
    "class Pentagon(Polygon):\n",
    "    \n",
    "    SIDES = 5\n",
    "    \n",
    "    def __init__(self, sides, apothem):\n",
    "        if len(sides) != Pentagon.SIDES:\n",
    "            raise ValueError('expected {0} sides for a pentagon, given {1}'.format(Pentagon.SIDES, len(sides)))\n",
    "        super().__init__(sides)\n",
    "        self._apothem = apothem\n",
    "    \n",
    "    def area(self):\n",
    "        return 2.5 * self._sides[0] * self._apothem\n",
    "    \n",
    "    \n",
    "class Hexagon(Polygon):\n",
    "    \n",
    "    SIDES = 6\n",
    "    \n",
    "    def __init__(self, sides):\n",
    "        if len(sides) != Hexagon.SIDES:\n",
    "            raise ValueError('expected {0} sides for a hexagon, given {1}'.format(Hexagon.SIDES, len(sides)))\n",
    "        super().__init__(sides)\n",
    "    \n",
    "    def area(self):\n",
    "        return (3 * (3**0.5) * (self._sides[0]**2)) / 2\n",
    "        \n",
    "\n",
    "class Octagon(Polygon):\n",
    "    \n",
    "    SIDES = 8\n",
    "    \n",
    "    def __init__(self, sides):\n",
    "        if len(sides) != Octagon.SIDES:\n",
    "            raise ValueError('expected {0} sides for an octagon, given {1}'.format(Octagon.SIDES, len(sides)))\n",
    "        super().__init__(sides)\n",
    "    \n",
    "    def area(self):\n",
    "        return (3 * (3**0.5) * (self._sides[0]**2)) / 2\n",
    "    \n",
    "\n",
    "class IsoscelesTriangle(Triangle):\n",
    "    \n",
    "    def __init__(self, sides):\n",
    "        super().__init__(sides)\n",
    "        \n",
    "    def area(self):\n",
    "        return (self._sides[2] * (self._sides[0] ** 2 - (self._sides[2] / 2) ** 2) ** 0.5) / 2\n",
    "    \n",
    "\n",
    "class EquilateralTriangle(Triangle):\n",
    "    \n",
    "    def __init__(self, sides):\n",
    "        super().__init__(sides)\n",
    "        \n",
    "    def area(self):\n",
    "        return (3 ** 0.5 / 4 * self._sides[0] ** 2)\n",
    "    \n",
    "\n",
    "class Rectangle(Quadrilateral):\n",
    "    \n",
    "    def __init__(self, sides):\n",
    "        super().__init__(sides)\n",
    "        \n",
    "    def area(self):\n",
    "        return self._sides[0] * self._sides[1]\n",
    "    \n",
    "\n",
    "class Square(Quadrilateral):\n",
    "    \n",
    "    def __init__(self, sides):\n",
    "        super().__init__(sides)\n",
    "        \n",
    "    def area(self):\n",
    "        return self._sides[0] ** 2\n",
    "    "
   ]
  },
  {
   "cell_type": "code",
   "execution_count": 60,
   "metadata": {},
   "outputs": [
    {
     "name": "stdout",
     "output_type": "stream",
     "text": [
      "Area:23.382685902179844\n",
      "Perimeter:24\n",
      "Type:<class '__main__.Octagon'>\n",
      "Area, given coordinates [(4, 10), (9, 7), (11, 2), (2, 2)] :45.5\n"
     ]
    },
    {
     "ename": "AttributeError",
     "evalue": "'Octagon' object has no attribute '__name__'",
     "output_type": "error",
     "traceback": [
      "\u001b[1;31m---------------------------------------------------------------------------\u001b[0m",
      "\u001b[1;31mAttributeError\u001b[0m                            Traceback (most recent call last)",
      "\u001b[1;32m<ipython-input-60-08b3cd07c5bf>\u001b[0m in \u001b[0;36m<module>\u001b[1;34m\u001b[0m\n\u001b[0;32m     33\u001b[0m \u001b[0mprint\u001b[0m\u001b[1;33m(\u001b[0m\u001b[1;34m'Area, given coordinates {0} :{1}'\u001b[0m\u001b[1;33m.\u001b[0m\u001b[0mformat\u001b[0m\u001b[1;33m(\u001b[0m\u001b[0mpoly_c\u001b[0m\u001b[1;33m.\u001b[0m\u001b[0m_coords\u001b[0m\u001b[1;33m,\u001b[0m \u001b[0mpoly_c\u001b[0m\u001b[1;33m.\u001b[0m\u001b[0marea_coords\u001b[0m\u001b[1;33m(\u001b[0m\u001b[1;33m)\u001b[0m\u001b[1;33m)\u001b[0m\u001b[1;33m)\u001b[0m\u001b[1;33m\u001b[0m\u001b[1;33m\u001b[0m\u001b[0m\n\u001b[0;32m     34\u001b[0m \u001b[1;33m\u001b[0m\u001b[0m\n\u001b[1;32m---> 35\u001b[1;33m \u001b[0mprint\u001b[0m\u001b[1;33m(\u001b[0m\u001b[1;34m'Polygons {0}, {1} are similar:{2}'\u001b[0m\u001b[1;33m.\u001b[0m\u001b[0mformat\u001b[0m\u001b[1;33m(\u001b[0m\u001b[0mpoly_a\u001b[0m\u001b[1;33m.\u001b[0m\u001b[0m__name__\u001b[0m\u001b[1;33m,\u001b[0m \u001b[0mpoly_b\u001b[0m\u001b[1;33m.\u001b[0m\u001b[0m__name__\u001b[0m\u001b[1;33m,\u001b[0m \u001b[0mpoly_a\u001b[0m\u001b[1;33m.\u001b[0m\u001b[0mis_similar\u001b[0m\u001b[1;33m(\u001b[0m\u001b[0mpoly_b\u001b[0m\u001b[1;33m)\u001b[0m\u001b[1;33m)\u001b[0m\u001b[1;33m)\u001b[0m\u001b[1;33m\u001b[0m\u001b[1;33m\u001b[0m\u001b[0m\n\u001b[0m",
      "\u001b[1;31mAttributeError\u001b[0m: 'Octagon' object has no attribute '__name__'"
     ]
    }
   ],
   "source": [
    "# Need to implement a factory class\n",
    "        \n",
    "def kinda_factory(sides, apothem = 0, diagonal = 0):\n",
    "    \n",
    "    len_sides = len(sides)\n",
    "    \n",
    "    if len_sides == 3:\n",
    "        if sum(sides) / sides[0] == 3.0:\n",
    "            return EquilateralTriangle(sides)\n",
    "        if len(set(sides)) == 2:\n",
    "            return IsoscelesTriangle(sides)\n",
    "    \n",
    "    if len_sides == 4:\n",
    "        if sum(sides) / sides[0] == 4.0:\n",
    "            return Square(sides)\n",
    "        \n",
    "    if len_sides == 5:\n",
    "        return Pentagon(sides, apothem)\n",
    "    \n",
    "    if len_sides == 6:\n",
    "        return Hexagon(sides)\n",
    "    \n",
    "    if len_sides == 8:\n",
    "        return Octagon(sides)\n",
    "\n",
    "    \n",
    "sides = [3] * 8\n",
    "poly_a = kinda_factory(sides)\n",
    "poly_b = kinda_factory(sides)\n",
    "print('Area:{0}\\nPerimeter:{1}\\nType:{2}'.format(poly.area(),poly.perimeter(),type(poly)))\n",
    "\n",
    "poly_c = Polygon(coords = [(4, 10), (9, 7), (11, 2), (2, 2)])\n",
    "print('Area, given coordinates {0} :{1}'.format(poly_c._coords, poly_c.area_coords()))\n",
    "\n",
    "print('Polygons {0}, {1} are similar:{2}'.format(poly_a.__nam, poly_b.__name__, poly_a.is_similar(poly_b)))"
   ]
  },
  {
   "cell_type": "code",
   "execution_count": null,
   "metadata": {},
   "outputs": [],
   "source": []
  }
 ],
 "metadata": {
  "kernelspec": {
   "display_name": "Python 3",
   "language": "python",
   "name": "python3"
  },
  "language_info": {
   "codemirror_mode": {
    "name": "ipython",
    "version": 3
   },
   "file_extension": ".py",
   "mimetype": "text/x-python",
   "name": "python",
   "nbconvert_exporter": "python",
   "pygments_lexer": "ipython3",
   "version": "3.7.3"
  }
 },
 "nbformat": 4,
 "nbformat_minor": 2
}
