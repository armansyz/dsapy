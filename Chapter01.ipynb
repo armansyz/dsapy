{
 "cells": [
  {
   "cell_type": "markdown",
   "metadata": {},
   "source": [
    "# Chapter 1"
   ]
  },
  {
   "cell_type": "markdown",
   "metadata": {},
   "source": [
    "## Modules used"
   ]
  },
  {
   "cell_type": "code",
   "execution_count": 11,
   "metadata": {},
   "outputs": [],
   "source": [
    "import random\n",
    "import math"
   ]
  },
  {
   "cell_type": "markdown",
   "metadata": {},
   "source": [
    "## Reinforcement"
   ]
  },
  {
   "cell_type": "markdown",
   "metadata": {},
   "source": [
    "### R-1.1"
   ]
  },
  {
   "cell_type": "code",
   "execution_count": 2,
   "metadata": {},
   "outputs": [
    {
     "name": "stdout",
     "output_type": "stream",
     "text": [
      "False\n",
      "True\n"
     ]
    }
   ],
   "source": [
    "def is_multiple(n, m):\n",
    "    if m == 0: return 'False'\n",
    "    return n % m == 0\n",
    "\n",
    "\n",
    "print(is_multiple(2, 3))\n",
    "print(is_multiple(8, 2))"
   ]
  },
  {
   "cell_type": "markdown",
   "metadata": {},
   "source": [
    "### R-1.2"
   ]
  },
  {
   "cell_type": "code",
   "execution_count": 3,
   "metadata": {},
   "outputs": [
    {
     "name": "stdout",
     "output_type": "stream",
     "text": [
      "True\n",
      "False\n",
      "True\n",
      "False\n"
     ]
    }
   ],
   "source": [
    "def is_even(k):\n",
    "    for i in range(0, k + 1, 2):\n",
    "        if i == k:\n",
    "            return 'True'\n",
    "    return 'False'\n",
    "\n",
    "\n",
    "def is_even_sol(k):\n",
    "    return (k & 1 == 0)\n",
    "\n",
    "\n",
    "print(is_even_sol(2))\n",
    "print(is_even_sol(3))\n",
    "print(is_even_sol(10002))\n",
    "print(is_even_sol(10000001))"
   ]
  },
  {
   "cell_type": "markdown",
   "metadata": {},
   "source": [
    "### R-1.3"
   ]
  },
  {
   "cell_type": "code",
   "execution_count": 4,
   "metadata": {},
   "outputs": [
    {
     "name": "stdout",
     "output_type": "stream",
     "text": [
      "(1, 5)\n",
      "(-1, 123)\n"
     ]
    }
   ],
   "source": [
    "def minmax(data):\n",
    "    x = y = data[0]\n",
    "    for i in data:\n",
    "        if i < x:\n",
    "            x = i\n",
    "        if i > y:\n",
    "            y = i\n",
    "    return x, y\n",
    "\n",
    "\n",
    "print(minmax([1, 2, 3, 4, 5]))\n",
    "print(minmax([123, 0, 15, -1, 32]))"
   ]
  },
  {
   "cell_type": "markdown",
   "metadata": {},
   "source": [
    "### R-1.4"
   ]
  },
  {
   "cell_type": "code",
   "execution_count": 5,
   "metadata": {},
   "outputs": [
    {
     "name": "stdout",
     "output_type": "stream",
     "text": [
      "1\n",
      "30\n",
      "285\n"
     ]
    }
   ],
   "source": [
    "def sum_sqr(n):\n",
    "    return sum(k*k for k in range(0, n))\n",
    "\n",
    "\n",
    "print(sum_sqr(2))\n",
    "print(sum_sqr(5))\n",
    "print(sum_sqr(10))"
   ]
  },
  {
   "cell_type": "markdown",
   "metadata": {},
   "source": [
    "### R-1.5"
   ]
  },
  {
   "cell_type": "code",
   "execution_count": 6,
   "metadata": {},
   "outputs": [
    {
     "name": "stdout",
     "output_type": "stream",
     "text": [
      "1\n",
      "30\n",
      "285\n"
     ]
    }
   ],
   "source": [
    "# Seems like R-1.4 was done in inappropriate way\n",
    "# I will do it the right way here\n",
    "\n",
    "def sum_sqr14(n):\n",
    "    j = 0\n",
    "    for i in range(1, n):\n",
    "        j += i * i\n",
    "    return j\n",
    "\n",
    "\n",
    "print(sum_sqr14(2))\n",
    "print(sum_sqr14(5))\n",
    "print(sum_sqr14(10))"
   ]
  },
  {
   "cell_type": "markdown",
   "metadata": {},
   "source": [
    "### R-1.6 & R-1.7"
   ]
  },
  {
   "cell_type": "code",
   "execution_count": 7,
   "metadata": {},
   "outputs": [
    {
     "name": "stdout",
     "output_type": "stream",
     "text": [
      "1\n",
      "10\n",
      "165\n"
     ]
    }
   ],
   "source": [
    "def sum_sqr(n):\n",
    "    return sum(k*k for k in range(0, n) if k % 2 != 0)\n",
    "\n",
    "\n",
    "def sum_sqr_sol(n):\n",
    "    return sum(k*k for k in range(1, n, 2))\n",
    "\n",
    "\n",
    "print(sum_sqr_sol(2))\n",
    "print(sum_sqr_sol(5))\n",
    "print(sum_sqr_sol(10))"
   ]
  },
  {
   "cell_type": "markdown",
   "metadata": {},
   "source": [
    "### R-1.8"
   ]
  },
  {
   "cell_type": "markdown",
   "metadata": {},
   "source": [
    "j = n + k"
   ]
  },
  {
   "cell_type": "markdown",
   "metadata": {},
   "source": [
    "### R-1.9"
   ]
  },
  {
   "cell_type": "code",
   "execution_count": 8,
   "metadata": {},
   "outputs": [
    {
     "name": "stdout",
     "output_type": "stream",
     "text": [
      "[50, 60, 70, 80]\n"
     ]
    }
   ],
   "source": [
    "print([x for x in range(50, 90, 10)])"
   ]
  },
  {
   "cell_type": "markdown",
   "metadata": {},
   "source": [
    "### R-1.10"
   ]
  },
  {
   "cell_type": "code",
   "execution_count": 9,
   "metadata": {},
   "outputs": [
    {
     "name": "stdout",
     "output_type": "stream",
     "text": [
      "[8, 6, 4, 2, 0, -2, -4, -6, -8]\n"
     ]
    }
   ],
   "source": [
    "print([x for x in range(8, -10, -2)])"
   ]
  },
  {
   "cell_type": "markdown",
   "metadata": {},
   "source": [
    "### R-1.11"
   ]
  },
  {
   "cell_type": "code",
   "execution_count": 83,
   "metadata": {},
   "outputs": [
    {
     "name": "stdout",
     "output_type": "stream",
     "text": [
      "[1, 2, 4, 8, 16, 32, 64, 128, 256]\n"
     ]
    }
   ],
   "source": [
    "print([2**k for k in range(9)])"
   ]
  },
  {
   "cell_type": "markdown",
   "metadata": {},
   "source": [
    "### R-1.12"
   ]
  },
  {
   "cell_type": "code",
   "execution_count": 11,
   "metadata": {},
   "outputs": [
    {
     "name": "stdout",
     "output_type": "stream",
     "text": [
      "5\n",
      "-1\n"
     ]
    }
   ],
   "source": [
    "from random import randrange\n",
    "\n",
    "\n",
    "def _choice(data):\n",
    "    if not data:\n",
    "        print('sequence is empty!')\n",
    "        return\n",
    "    return data[randrange(0, len(data))]\n",
    "\n",
    "\n",
    "print(_choice([1, 2, 5]))\n",
    "print(_choice([123, -1, 0, 12000, 8]))"
   ]
  },
  {
   "cell_type": "markdown",
   "metadata": {},
   "source": [
    "## Creativity"
   ]
  },
  {
   "cell_type": "markdown",
   "metadata": {},
   "source": [
    "### C-1.13"
   ]
  },
  {
   "cell_type": "markdown",
   "metadata": {},
   "source": [
    "    f(list[n])  \n",
    "    {  \n",
    "        for(x = 0; x < list.length; x++)  \n",
    "        {  \n",
    "            result[x] = list[n - x - 1]  \n",
    "        }  \n",
    "        return result  \n",
    "    }"
   ]
  },
  {
   "cell_type": "code",
   "execution_count": 12,
   "metadata": {},
   "outputs": [
    {
     "name": "stdout",
     "output_type": "stream",
     "text": [
      "[19999, -123, 9, 125, 123, 5, 1]\n",
      "[19999, -123, 9, 125, 123, 5, 1]\n"
     ]
    },
    {
     "data": {
      "text/plain": [
       "(0.9709895999999993, 1.3496810000000004)"
      ]
     },
     "execution_count": 12,
     "metadata": {},
     "output_type": "execute_result"
    }
   ],
   "source": [
    "def _reverse(data):\n",
    "    return(data[::-1])\n",
    "\n",
    "\n",
    "data = [1, 5, 123, 125, 9, -123, 19999]\n",
    "\n",
    "\n",
    "print(_reverse(data))\n",
    "print(list(reversed(data)))\n",
    "\n",
    "\n",
    "from timeit import Timer\n",
    "\n",
    "(Timer(lambda: _reverse(data)).timeit(),\n",
    "Timer(lambda: list(reversed(data))).timeit())"
   ]
  },
  {
   "cell_type": "markdown",
   "metadata": {},
   "source": [
    "### C-1.14"
   ]
  },
  {
   "cell_type": "code",
   "execution_count": 13,
   "metadata": {},
   "outputs": [
    {
     "name": "stdout",
     "output_type": "stream",
     "text": [
      "True for (1, 3)\n"
     ]
    }
   ],
   "source": [
    "def exist_odd(data):    \n",
    "    for x in range(len(data)):\n",
    "        for b in data[x+1:]:\n",
    "            if (data[x] * b) % 2 == 1:\n",
    "                return 'True for ({0}, {1})'.format(data[x], b)\n",
    "    return 'False'\n",
    "\n",
    "\n",
    "# optimal solution includes finding two distinct odd numbers\n",
    "\n",
    "a = [1, 3, 6, 4, 10]\n",
    "print(exist_odd(a))"
   ]
  },
  {
   "cell_type": "markdown",
   "metadata": {},
   "source": [
    "### C-1.15"
   ]
  },
  {
   "cell_type": "code",
   "execution_count": 14,
   "metadata": {},
   "outputs": [
    {
     "name": "stdout",
     "output_type": "stream",
     "text": [
      "True\n",
      "False\n",
      "False\n"
     ]
    }
   ],
   "source": [
    "def distinct_nums(data):\n",
    "    return len(set(data)) == len(data)\n",
    "\n",
    "\n",
    "a = [1, 2, 3, 4, 5]\n",
    "b = [1, 2, 3, 3, 3]\n",
    "c = [1, 1]\n",
    "print(distinct_nums(a))\n",
    "print(distinct_nums(b))\n",
    "print(distinct_nums(c))"
   ]
  },
  {
   "cell_type": "markdown",
   "metadata": {},
   "source": [
    "### C-1.16"
   ]
  },
  {
   "cell_type": "markdown",
   "metadata": {},
   "source": [
    "we operate on a list reference to a new immutable object"
   ]
  },
  {
   "cell_type": "markdown",
   "metadata": {},
   "source": [
    "### C-1.17"
   ]
  },
  {
   "cell_type": "markdown",
   "metadata": {},
   "source": [
    "no, since this is a separate object (iterator)"
   ]
  },
  {
   "cell_type": "markdown",
   "metadata": {},
   "source": [
    "### C-1.18"
   ]
  },
  {
   "cell_type": "code",
   "execution_count": 15,
   "metadata": {},
   "outputs": [
    {
     "name": "stdout",
     "output_type": "stream",
     "text": [
      "[0, 2, 6, 12, 20, 30, 42, 56, 72, 90]\n"
     ]
    }
   ],
   "source": [
    "def seq_comp(n):\n",
    "    return [x**2 + x  for x in range(n + 1) if (x * (x + 1)) < n]\n",
    "\n",
    "\n",
    "print(seq_comp(91))"
   ]
  },
  {
   "cell_type": "markdown",
   "metadata": {},
   "source": [
    "### C-1.19"
   ]
  },
  {
   "cell_type": "code",
   "execution_count": 16,
   "metadata": {},
   "outputs": [
    {
     "name": "stdout",
     "output_type": "stream",
     "text": [
      "['a', 'b', 'c', 'd', 'e', 'f', 'g', 'h', 'i', 'j', 'k', 'l', 'm', 'n', 'o', 'p', 'q', 'r', 's', 't', 'u', 'v', 'w', 'x', 'y', 'z']\n"
     ]
    }
   ],
   "source": [
    "def seq_char(n):\n",
    "    return [chr(x) for x in range(97, 97 + n)]\n",
    "\n",
    "\n",
    "print(seq_char(26))"
   ]
  },
  {
   "cell_type": "markdown",
   "metadata": {},
   "source": [
    "### C-1.20"
   ]
  },
  {
   "cell_type": "code",
   "execution_count": null,
   "metadata": {},
   "outputs": [],
   "source": [
    "def _shuffle(data):\n",
    "    res = []\n",
    "    tst = data[:]\n",
    "    i = 0\n",
    "    j = len(tst)\n",
    "    while tst:\n",
    "        res.append(tst.pop(random.randint(0, j - i - 1)))\n",
    "        i += 1\n",
    "    return res\n",
    "\n",
    "\n",
    "a = [1, 2, 3, 4, 5]\n",
    "print(_shuffle(a))\n",
    "random.shuffle(a)\n",
    "print(a)\n"
   ]
  },
  {
   "cell_type": "markdown",
   "metadata": {},
   "source": [
    "### C-1.21"
   ]
  },
  {
   "cell_type": "code",
   "execution_count": null,
   "metadata": {},
   "outputs": [],
   "source": [
    "# better run in a command shell\n",
    "def input_reverse():\n",
    "    a = []\n",
    "    while True:\n",
    "        try:\n",
    "            a.append(input().strip())\n",
    "        except (EOFError, KeyboardInterrupt):\n",
    "            for line in a[::-1]:\n",
    "                print(line)\n",
    "            return\n"
   ]
  },
  {
   "cell_type": "markdown",
   "metadata": {},
   "source": [
    "### C-1.22"
   ]
  },
  {
   "cell_type": "code",
   "execution_count": 10,
   "metadata": {},
   "outputs": [
    {
     "name": "stdout",
     "output_type": "stream",
     "text": [
      "[4, 10, 18]\n"
     ]
    }
   ],
   "source": [
    "def dot_product(a, b):\n",
    "    c = [0] * len(a)\n",
    "    for i in range(len(a)):\n",
    "        c[i] = a[i] * b[i]\n",
    "    return c\n",
    "\n",
    "\n",
    "d = [1, 2, 3]\n",
    "e = [4, 5, 6]\n",
    "print(dot_product(d, e))"
   ]
  },
  {
   "cell_type": "markdown",
   "metadata": {},
   "source": [
    "### C-1.23"
   ]
  },
  {
   "cell_type": "code",
   "execution_count": 12,
   "metadata": {},
   "outputs": [
    {
     "name": "stdout",
     "output_type": "stream",
     "text": [
      "Do not try buffer overflow attacks in Python!\n"
     ]
    }
   ],
   "source": [
    "a = [0] * 2\n",
    "try:\n",
    "    print(a[2])\n",
    "except IndexError:\n",
    "    print('Do not try buffer overflow attacks in Python!')"
   ]
  },
  {
   "cell_type": "markdown",
   "metadata": {},
   "source": [
    "### C-1.24"
   ]
  },
  {
   "cell_type": "code",
   "execution_count": 21,
   "metadata": {},
   "outputs": [
    {
     "name": "stdout",
     "output_type": "stream",
     "text": [
      "1\n",
      "4\n"
     ]
    }
   ],
   "source": [
    "def vowels_count(word):\n",
    "    vowels = {'a', 'e', 'i', 'o', 'u', 'y', 'A', 'E', 'I', 'O', 'U', 'Y'}\n",
    "    count = 0\n",
    "    for i in word:\n",
    "        if i in vowels:\n",
    "            count += 1\n",
    "    return count\n",
    "\n",
    "\n",
    "print(vowels_count('test'))\n",
    "print(vowels_count('colorado'))"
   ]
  },
  {
   "cell_type": "markdown",
   "metadata": {},
   "source": [
    "### C-1.25"
   ]
  },
  {
   "cell_type": "code",
   "execution_count": 58,
   "metadata": {},
   "outputs": [
    {
     "name": "stdout",
     "output_type": "stream",
     "text": [
      "Lets test this out\n",
      "TEST\n"
     ]
    }
   ],
   "source": [
    "def remove_punct(sentence):\n",
    "    punct = {'.', ',' ,'?', '!', ':', ';', \"'\", '-', '\"'}\n",
    "    for i in sentence:\n",
    "        if i in punct:\n",
    "            sentence = sentence.replace(i, '')\n",
    "    return sentence\n",
    "\n",
    "\n",
    "print(remove_punct(\"Let's test. this out!?\"))\n",
    "print(remove_punct(\".!?-TEST\"))"
   ]
  },
  {
   "cell_type": "markdown",
   "metadata": {},
   "source": [
    "### C-1.26"
   ]
  },
  {
   "cell_type": "code",
   "execution_count": 62,
   "metadata": {},
   "outputs": [
    {
     "name": "stdout",
     "output_type": "stream",
     "text": [
      "Valid for a + b = c\n",
      "Valid for a = b - c\n",
      "Valid for a * b = c\n",
      "Not valid\n"
     ]
    }
   ],
   "source": [
    "def valid_input(a, b, c):\n",
    "    if a + b == c:\n",
    "        return 'Valid for a + b = c'\n",
    "    elif a == b - c:\n",
    "        return 'Valid for a = b - c'\n",
    "    elif a * b == c:\n",
    "        return 'Valid for a * b = c'\n",
    "    return 'Not valid'\n",
    "\n",
    "\n",
    "print(valid_input(1, 2, 3))\n",
    "print(valid_input(2, 4, 2))\n",
    "print(valid_input(1, 3, 3))\n",
    "print(valid_input(10, -1, 5))"
   ]
  },
  {
   "cell_type": "markdown",
   "metadata": {},
   "source": [
    "### C-1.27"
   ]
  },
  {
   "cell_type": "code",
   "execution_count": 85,
   "metadata": {},
   "outputs": [
    {
     "name": "stdout",
     "output_type": "stream",
     "text": [
      "1\n",
      "2\n",
      "4\n",
      "5\n",
      "10\n",
      "20\n",
      "25\n",
      "50\n",
      "100\n"
     ]
    }
   ],
   "source": [
    "def factors_inc(n):\n",
    "    i = 1\n",
    "    while i * i < n:\n",
    "        if n % i == 0:\n",
    "            yield i\n",
    "        i += 1\n",
    "    while i > 0:\n",
    "        if n % i == 0:\n",
    "            yield n // i                \n",
    "        i -= 1  \n",
    "            \n",
    "\n",
    "for i in factors_inc(100):\n",
    "    print(i)"
   ]
  },
  {
   "cell_type": "markdown",
   "metadata": {},
   "source": [
    "### C-1.28"
   ]
  },
  {
   "cell_type": "code",
   "execution_count": 89,
   "metadata": {},
   "outputs": [
    {
     "name": "stdout",
     "output_type": "stream",
     "text": [
      "3.7416573867739413\n",
      "3.3019272488946263\n"
     ]
    }
   ],
   "source": [
    "def pnorm(v, p = 2):\n",
    "    return sum(x**p for x in v)**(1 / p)\n",
    "\n",
    "\n",
    "a = [1, 2, 3]\n",
    "print(pnorm(a))\n",
    "print(pnorm(a, 3))"
   ]
  },
  {
   "cell_type": "markdown",
   "metadata": {},
   "source": [
    "## Projects"
   ]
  },
  {
   "cell_type": "markdown",
   "metadata": {},
   "source": [
    "### P-1.29"
   ]
  },
  {
   "cell_type": "code",
   "execution_count": null,
   "metadata": {},
   "outputs": [],
   "source": [
    "# bruteforce option\n",
    "def str_comb(data):\n",
    "    res = data\n",
    "    for i in range(len(res)):\n",
    "        # print(res[i])\n",
    "        fir = res[:]\n",
    "        fir.remove(res[i])\n",
    "        for j in range(len(fir)): \n",
    "            # print(res[i] + fir[j])\n",
    "            sec = fir[:]\n",
    "            sec.remove(fir[j])\n",
    "            for k in range(len(sec)):\n",
    "                # print(res[i] + fir[j] + sec[k])\n",
    "                thr = sec[:]\n",
    "                thr.remove(sec[k])\n",
    "                for l in range(len(thr)):\n",
    "                    # print(res[i] + fir[j] + sec[k] + thr[l])\n",
    "                    frt = thr[:]\n",
    "                    frt.remove(thr[l])\n",
    "                    for r in range(len(frt)):\n",
    "                        # print(res[i] + fir[j] + sec[k] + thr[l] + frt[r])\n",
    "                        fiv = frt[:]\n",
    "                        fiv.remove(frt[r])\n",
    "                        for y in range(len(fiv)):\n",
    "                            print(res[i] + fir[j] + sec[k] + thr[l] + frt[r] + fiv[y])                    \n",
    "                                \n",
    "\n",
    "str_comb(['c', 'a', 't', 'd', 'o', 'g'])"
   ]
  },
  {
   "cell_type": "markdown",
   "metadata": {},
   "source": [
    "### P-1.30"
   ]
  },
  {
   "cell_type": "code",
   "execution_count": 253,
   "metadata": {},
   "outputs": [
    {
     "name": "stdout",
     "output_type": "stream",
     "text": [
      "1\n",
      "1\n"
     ]
    }
   ],
   "source": [
    "def check_division(a, k):\n",
    "    i = 0\n",
    "    while a >= k:\n",
    "        if a % k == 0:\n",
    "            a = a // k\n",
    "        elif a != 1:\n",
    "            return 0        \n",
    "        i += 1\n",
    "    return i\n",
    "\n",
    "\n",
    "def check_div(a, k):\n",
    "    if a == 0: return a\n",
    "    return math.log(a, k)\n",
    "\n",
    "print(int(check_div(2, 2)))\n",
    "print(check_division(2, 2))"
   ]
  },
  {
   "cell_type": "markdown",
   "metadata": {},
   "source": [
    "### P-1.31"
   ]
  },
  {
   "cell_type": "code",
   "execution_count": 1,
   "metadata": {},
   "outputs": [
    {
     "name": "stdout",
     "output_type": "stream",
     "text": [
      "Change amount: 14868.55 ;Bills: {100: 148, 50: 1, 10: 1, 5: 1, 1: 3} ;Coins: {50: 1, 5: 1}\n"
     ]
    }
   ],
   "source": [
    "def count_factors(amount, data):\n",
    "    res = {}\n",
    "    for i in data:\n",
    "        if amount >= i:\n",
    "            res[i] = (int(amount // i))\n",
    "            amount -= int(amount // i) * i\n",
    "        if amount == 0:\n",
    "            break\n",
    "    return res\n",
    "\n",
    "def make_change(a, b, bills = [1, 5, 10, 20, 50, 100], coins = [1, 5, 10, 25, 50]):\n",
    "    c = round(b - a, 2)\n",
    "    x = c // 1\n",
    "    y = round(c % 1, 2) * 100\n",
    "    bills = sorted(bills, reverse = True)\n",
    "    coins = sorted(coins, reverse = True)\n",
    "    print('Change amount:', c,';Bills:', count_factors(x, bills),';Coins:', count_factors(y, coins))\n",
    "    \n",
    "\n",
    "make_change(254.45, 15123)    "
   ]
  },
  {
   "cell_type": "markdown",
   "metadata": {},
   "source": [
    "### P-1.32 & P-1.33"
   ]
  },
  {
   "cell_type": "code",
   "execution_count": 10,
   "metadata": {},
   "outputs": [
    {
     "name": "stdout",
     "output_type": "stream",
     "text": [
      "1\n",
      "+\n",
      "2\n",
      "3\n",
      "*\n",
      "55\n",
      "165\n",
      "\n",
      "Program Closed!\n"
     ]
    }
   ],
   "source": [
    "def calculator():\n",
    "    next_word = ''\n",
    "    res = 0\n",
    "    op = ''\n",
    "    while True:\n",
    "        try:\n",
    "            next_word = input().strip()\n",
    "            try:\n",
    "                if op == '':\n",
    "                    res = float(next_word)\n",
    "                    continue\n",
    "                elif op == '+':\n",
    "                    res += float(next_word)\n",
    "                elif op == '-':\n",
    "                    res -= float(next_word)\n",
    "                elif op == '*':\n",
    "                    res *= float(next_word)\n",
    "                elif op == ':':\n",
    "                    res = float(next_word)\n",
    "                print(res)\n",
    "                op = ''\n",
    "            except (TypeError, ValueError):\n",
    "                op = next_word\n",
    "        except (KeyboardInterrupt, EOFError):\n",
    "            print('Program Closed!')\n",
    "            break\n",
    "\n",
    "\n",
    "def calculator2():\n",
    "    op = {'+', '-', '*', ':', '/'}\n",
    "    res = ''\n",
    "    word = input().strip()\n",
    "    res += word\n",
    "    while True:\n",
    "        try:\n",
    "            word = input().strip()\n",
    "            res += word\n",
    "            if word not in op:\n",
    "                res = str(eval(res))\n",
    "                print(res)\n",
    "        except (KeyboardInterrupt, EOFError):\n",
    "            print('Program Closed!')\n",
    "            break\n",
    "\n",
    "\n",
    "if __name__ == '__main__':\n",
    "    calculator2()"
   ]
  },
  {
   "cell_type": "markdown",
   "metadata": {},
   "source": [
    "### P-1.34"
   ]
  },
  {
   "cell_type": "code",
   "execution_count": 13,
   "metadata": {},
   "outputs": [
    {
     "name": "stdout",
     "output_type": "stream",
     "text": [
      "['1.I will never spam my friends again!', '2.I will never spam my friends again!', '3.I will never spam my friends again!', '4.I will never spam my friends again!', '5.I will never spam my friends again!', '6.I will never spam my friends again!', '7.I will never spam my friends again!', '8.I will never spam my friends again!', '9.I will nevfr spam my friends again!', '10.I will never spam my friends again!', '11.I will never spam mb friends again!', '12.I will never spam my friends again!', '13.I will never spam my friends again!', '14.I will never spam my friends again!', '15.I will never spam my friends again!', '16.I will never spam my friends again!', '17.I will never spam my friends again!', '18.I will never spam my friends again!', '19.I will never spam my friends again!', '20.I will never spam my friends again!', '21.I will never spam my friends again!', '22.I will never spam my friends again!', '23.I will never spam my friends again!', '24.I will never spam my friends again!', '25.I will never spam my friends again!', '26.I will never spam my friends again!', '27.I will nevmr spam my friends again!', '28.I will never spam my friends again!', '29.I will never spam my friends again!', '30.I will never spam my friends again!', '31.I will never spam my friends again!', '32.I will never spam my friends again!', '33.I will never spam my friends again!', '34.I will never spam my friends again!', '35.I will never spam my friends again!', '36.I will never spam my friends again!', '37.I will never spam my friends again!', '38.I will never spam my friends again!', '39.I will never spam my friends again!', '40.I will never spam my friends again!', '41.I will never spam my friends again!', '42.I will never spam my friends again!', '43.I will never spam my friends again!', '44.I will never spam my friends again!', '45.I will never soam my friends again!', '46.I will never spam my friends again!', '47.I will never spam my friends again!', '48.I will never spam my friends again!', '49.I will never spam my friends again!', '50.I will never spam my friends again!', '51.I will never spam my friends again!', '52.I will never spam my friends again!', '53.I will never spam my friends again!', '54.I will never spam my friends again!', '55.I will never spam my friends again!', '56.I will never spam my friends again!', '57.I will never spam my friends again!', '58.I will never spam my friends again!', '59.I will never spam my friends againk', '60.I will never spam my friends again!', '61.I will never spam my friends again!', '62.I will never spam my friends again!', '63.I will never spam my friends again!', '64.I will never spam my friends again!', '65.I will never spam my friends again!', '66.I will never spam my friends again!', '67.I will never spam my friends again!', '68.I will never spam my friends again!', '69.I will never spam my friends again!', '70.I will never spam my friends again!', '71.I will never spam my friends again!', '72.I will never spam my friends again!', '73.I will never spam my friends again!', '74.I will never spam my friends again!', '75.I will never spam my friends again!', '76.I will never spam my friends again!', '77.I will never spam my friends again!', '78.I will never spam my friends again!', '79.I will never spam my friends again!', '80.I will never spam my friends again!', '81.I will never spam me friends again!', '82.I will never spbm my friends again!', '83.I will never spam my friends again!', '84.I will never spam my friends again!', '85.I will never spam my friends again!', '86.I will never spam my friends again!', '87.I will never spam my friends again!', '88.I will never spam my friends again!', '89.I will never spam my friends again!', '90.I will never spam my friends again!', '91.I will never spam my friends again!', '92.I will never spam my friends again!', '93.I will never spam my friends again!', '94.I will never spam my friends again!', '95.I will never spam my friends again!', '96.I will never spam my friends again!', '97.I will never spam my friends again!', '98.I will never spam my friends again!', '99.I will never spam my friends again!', '100.I will never spam my friends again!']\n"
     ]
    }
   ],
   "source": [
    "def mistake_maker(word: str):\n",
    "    n = random.randint(0, len(word) - 1)\n",
    "    return word[:n] + chr(random.randint(97, 113)) + word[n + 1:]\n",
    "\n",
    "\n",
    "def write_sentences(n: int, k: int, word: str):\n",
    "    mistakes = random.sample([x for x in range(n)], k)\n",
    "    print([str(x + 1) + '.' +\n",
    "           (mistake_maker(word) if x in mistakes else word)\n",
    "           for x in range(n)])\n",
    "\n",
    "\n",
    "if __name__ == '__main__':\n",
    "    write_sentences(100, 8, 'I will never spam my friends again!')\n"
   ]
  },
  {
   "cell_type": "markdown",
   "metadata": {},
   "source": [
    "### P-1.35"
   ]
  },
  {
   "cell_type": "code",
   "execution_count": 14,
   "metadata": {},
   "outputs": [
    {
     "name": "stdout",
     "output_type": "stream",
     "text": [
      "for 5 : 1 %\n",
      "for 10 : 17 %\n",
      "for 15 : 31 %\n",
      "for 20 : 30 %\n",
      "for 23 : 52 %\n",
      "for 24 : 53 %\n",
      "for 30 : 65 %\n",
      "for 40 : 94 %\n",
      "for 50 : 95 %\n",
      "for 60 : 99 %\n",
      "for 100 : 100 %\n"
     ]
    }
   ],
   "source": [
    "def check_birthday_paradox(k: int) -> int:\n",
    "    birthlist = [random.randint(1, 365) for x in range(k)]\n",
    "    return 1 if len(birthlist) != len(set(birthlist)) else 0\n",
    "\n",
    "\n",
    "def conduct_tests(y: int, tests: int = 100) -> int:\n",
    "    return sum(check_birthday_paradox(y) for x in range(tests))\n",
    "\n",
    "\n",
    "if __name__ == '__main__':\n",
    "    for n in [5, 10, 15, 20, 23, 24, 30, 40, 50, 60, 100]:\n",
    "        print('for', n, ':', conduct_tests(n), '%')"
   ]
  },
  {
   "cell_type": "markdown",
   "metadata": {},
   "source": [
    "### P-1.36"
   ]
  },
  {
   "cell_type": "code",
   "execution_count": 15,
   "metadata": {},
   "outputs": [
    {
     "name": "stdout",
     "output_type": "stream",
     "text": [
      "try this one one one\n",
      "{'try': 1, 'this': 1, 'one': 3}\n"
     ]
    }
   ],
   "source": [
    "def count_words(words):\n",
    "    count_dict = {}\n",
    "    for x in words:\n",
    "        if x not in count_dict.keys():\n",
    "            count_dict[x] = 1\n",
    "        else:\n",
    "            count_dict[x] += 1\n",
    "    print(count_dict)\n",
    "\n",
    "\n",
    "if __name__ == '__main__':\n",
    "    count_words(input().split())"
   ]
  },
  {
   "cell_type": "markdown",
   "metadata": {},
   "source": [
    "## End of Chapter 01 Exercises"
   ]
  }
 ],
 "metadata": {
  "kernelspec": {
   "display_name": "Python 3",
   "language": "python",
   "name": "python3"
  }
 },
 "nbformat": 4,
 "nbformat_minor": 2
}
